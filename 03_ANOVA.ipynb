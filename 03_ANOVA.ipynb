{
 "cells": [
  {
   "attachments": {},
   "cell_type": "markdown",
   "metadata": {},
   "source": [
    "# Einfaktorielle ANOVAs\n",
    "\n",
    "Im letzten Notebook haben wir uns angesehen wie man in Python T-Tests ausführt. Das Problem am Ende des Notebooks war, dass wir drei Gruppen Pinguine haben, bei denen wir die Schnabellänge verglichen haben, was letztendlich zu vielen einzelnen Tests führte und damit zur sogenannten Alpha-Fehler Kummulierung. \n",
    "\n",
    "Stattdessen kann man auch in einem einzelnen Test eine ANOVA durchführen und so die Mittelwerte von mehr als zwei Gruppen vergleichen und so herauszufinden, ob sich die Schnabellänge zwischen den drei Pinguingruppen unterschiedet."
   ]
  },
  {
   "cell_type": "code",
   "execution_count": 1,
   "metadata": {},
   "outputs": [],
   "source": [
    "import pandas as pd\n",
    "\n",
    "penguins = pd.read_csv(\n",
    "    \"./penguins_classification.csv\"\n",
    ")  # Der Punkt ist ein 'relativer Pfad', der dazu führt, dass im selben Ordner nach den Daten gesucht wird, wie das Skript ist."
   ]
  },
  {
   "attachments": {},
   "cell_type": "markdown",
   "metadata": {},
   "source": [
    "Für die ANOVA nutzen wir wieder das Pingouin Modul. Man kann auch einzelne Befehle aus Modulen importieren. Aus dem Pingouin Modul importieren wir also den Befehl, der eine ANOVA berechnet."
   ]
  },
  {
   "cell_type": "code",
   "execution_count": 2,
   "metadata": {},
   "outputs": [],
   "source": [
    "from pingouin import anova"
   ]
  },
  {
   "attachments": {},
   "cell_type": "markdown",
   "metadata": {},
   "source": [
    "Die Dokumentation können wir mit ? vor dem Befehl, den wir ausführen wollen öffnen."
   ]
  },
  {
   "cell_type": "code",
   "execution_count": 3,
   "metadata": {},
   "outputs": [
    {
     "name": "stdout",
     "output_type": "stream",
     "text": [
      "\u001b[1;31mSignature:\u001b[0m\n",
      "\u001b[0manova\u001b[0m\u001b[1;33m(\u001b[0m\u001b[1;33m\n",
      "\u001b[0m    \u001b[0mdata\u001b[0m\u001b[1;33m=\u001b[0m\u001b[1;32mNone\u001b[0m\u001b[1;33m,\u001b[0m\u001b[1;33m\n",
      "\u001b[0m    \u001b[0mdv\u001b[0m\u001b[1;33m=\u001b[0m\u001b[1;32mNone\u001b[0m\u001b[1;33m,\u001b[0m\u001b[1;33m\n",
      "\u001b[0m    \u001b[0mbetween\u001b[0m\u001b[1;33m=\u001b[0m\u001b[1;32mNone\u001b[0m\u001b[1;33m,\u001b[0m\u001b[1;33m\n",
      "\u001b[0m    \u001b[0mss_type\u001b[0m\u001b[1;33m=\u001b[0m\u001b[1;36m2\u001b[0m\u001b[1;33m,\u001b[0m\u001b[1;33m\n",
      "\u001b[0m    \u001b[0mdetailed\u001b[0m\u001b[1;33m=\u001b[0m\u001b[1;32mFalse\u001b[0m\u001b[1;33m,\u001b[0m\u001b[1;33m\n",
      "\u001b[0m    \u001b[0meffsize\u001b[0m\u001b[1;33m=\u001b[0m\u001b[1;34m'np2'\u001b[0m\u001b[1;33m,\u001b[0m\u001b[1;33m\n",
      "\u001b[0m\u001b[1;33m)\u001b[0m\u001b[1;33m\u001b[0m\u001b[1;33m\u001b[0m\u001b[0m\n",
      "\u001b[1;31mDocstring:\u001b[0m\n",
      "One-way and *N*-way ANOVA.\n",
      "\n",
      "Parameters\n",
      "----------\n",
      "data : :py:class:`pandas.DataFrame`\n",
      "    DataFrame. Note that this function can also directly be used as a\n",
      "    Pandas method, in which case this argument is no longer needed.\n",
      "dv : string\n",
      "    Name of column in ``data`` containing the dependent variable.\n",
      "between : string or list with *N* elements\n",
      "    Name of column(s) in ``data`` containing the between-subject factor(s).\n",
      "    If ``between`` is a single string, a one-way ANOVA is computed.\n",
      "    If ``between`` is a list with two or more elements, a *N*-way ANOVA is\n",
      "    performed.\n",
      "    Note that Pingouin will internally call statsmodels to calculate\n",
      "    ANOVA with 3 or more factors, or unbalanced two-way ANOVA.\n",
      "ss_type : int\n",
      "    Specify how the sums of squares is calculated for *unbalanced* design\n",
      "    with 2 or more factors. Can be 1, 2 (default), or 3. This has no impact\n",
      "    on one-way design or N-way ANOVA with balanced data.\n",
      "detailed : boolean\n",
      "    If True, return a detailed ANOVA table\n",
      "    (default True for N-way ANOVA).\n",
      "effsize : str\n",
      "    Effect size. Must be 'np2' (partial eta-squared) or 'n2'\n",
      "    (eta-squared). Note that for one-way ANOVA partial eta-squared is the\n",
      "    same as eta-squared.\n",
      "\n",
      "Returns\n",
      "-------\n",
      "aov : :py:class:`pandas.DataFrame`\n",
      "    ANOVA summary:\n",
      "\n",
      "    * ``'Source'``: Factor names\n",
      "    * ``'SS'``: Sums of squares\n",
      "    * ``'DF'``: Degrees of freedom\n",
      "    * ``'MS'``: Mean squares\n",
      "    * ``'F'``: F-values\n",
      "    * ``'p-unc'``: uncorrected p-values\n",
      "    * ``'np2'``: Partial eta-square effect sizes\n",
      "\n",
      "See Also\n",
      "--------\n",
      "rm_anova : One-way and two-way repeated measures ANOVA\n",
      "mixed_anova : Two way mixed ANOVA\n",
      "welch_anova : One-way Welch ANOVA\n",
      "kruskal : Non-parametric one-way ANOVA\n",
      "\n",
      "Notes\n",
      "-----\n",
      "The classic ANOVA is very powerful when the groups are normally distributed\n",
      "and have equal variances. However, when the groups have unequal variances,\n",
      "it is best to use the Welch ANOVA (:py:func:`pingouin.welch_anova`) that\n",
      "better controls for type I error (Liu 2015). The homogeneity of variances\n",
      "can be measured with the :py:func:`pingouin.homoscedasticity` function.\n",
      "\n",
      "The main idea of ANOVA is to partition the variance (sums of squares)\n",
      "into several components. For example, in one-way ANOVA:\n",
      "\n",
      ".. math::\n",
      "    SS_{\\text{total}} = SS_{\\text{effect}} + SS_{\\text{error}}\n",
      "\n",
      "    SS_{\\text{total}} = \\sum_i \\sum_j (Y_{ij} - \\overline{Y})^2\n",
      "\n",
      "    SS_{\\text{effect}} = \\sum_i n_i (\\overline{Y_i} - \\overline{Y})^2\n",
      "\n",
      "    SS_{\\text{error}} = \\sum_i \\sum_j (Y_{ij} - \\overline{Y}_i)^2\n",
      "\n",
      "where :math:`i=1,...,r; j=1,...,n_i`, :math:`r` is the number of groups,\n",
      "and :math:`n_i` the number of observations for the :math:`i` th group.\n",
      "\n",
      "The F-statistics is then defined as:\n",
      "\n",
      ".. math::\n",
      "\n",
      "    F^* = \\frac{MS_{\\text{effect}}}{MS_{\\text{error}}} =\n",
      "    \\frac{SS_{\\text{effect}} / (r - 1)}{SS_{\\text{error}} / (n_t - r)}\n",
      "\n",
      "and the p-value can be calculated using a F-distribution with\n",
      ":math:`r-1, n_t-1` degrees of freedom.\n",
      "\n",
      "When the groups are balanced and have equal variances, the optimal post-hoc\n",
      "test is the Tukey-HSD test (:py:func:`pingouin.pairwise_tukey`).\n",
      "If the groups have unequal variances, the Games-Howell test is more\n",
      "adequate (:py:func:`pingouin.pairwise_gameshowell`).\n",
      "\n",
      "The default effect size reported in Pingouin is the partial eta-square,\n",
      "which, for one-way ANOVA is the same as eta-square and generalized\n",
      "eta-square.\n",
      "\n",
      ".. math::\n",
      "    \\eta_p^2 = \\frac{SS_{\\text{effect}}}{SS_{\\text{effect}} +\n",
      "    SS_{\\text{error}}}\n",
      "\n",
      "Missing values are automatically removed. Results have been tested against\n",
      "R, Matlab and JASP.\n",
      "\n",
      "Examples\n",
      "--------\n",
      "One-way ANOVA\n",
      "\n",
      ">>> import pingouin as pg\n",
      ">>> df = pg.read_dataset('anova')\n",
      ">>> aov = pg.anova(dv='Pain threshold', between='Hair color', data=df,\n",
      "...                detailed=True)\n",
      ">>> aov.round(3)\n",
      "       Source        SS  DF       MS      F  p-unc    np2\n",
      "0  Hair color  1360.726   3  453.575  6.791  0.004  0.576\n",
      "1      Within  1001.800  15   66.787    NaN    NaN    NaN\n",
      "\n",
      "Same but using a standard eta-squared instead of a partial eta-squared\n",
      "effect size. Also note how here we're using the anova function directly as\n",
      "a method (= built-in function) of our pandas dataframe. In that case,\n",
      "we don't have to specify ``data`` anymore.\n",
      "\n",
      ">>> df.anova(dv='Pain threshold', between='Hair color', detailed=False,\n",
      "...          effsize='n2')\n",
      "       Source  ddof1  ddof2         F     p-unc        n2\n",
      "0  Hair color      3     15  6.791407  0.004114  0.575962\n",
      "\n",
      "Two-way ANOVA with balanced design\n",
      "\n",
      ">>> data = pg.read_dataset('anova2')\n",
      ">>> data.anova(dv=\"Yield\", between=[\"Blend\", \"Crop\"]).round(3)\n",
      "         Source        SS  DF        MS      F  p-unc    np2\n",
      "0         Blend     2.042   1     2.042  0.004  0.952  0.000\n",
      "1          Crop  2736.583   2  1368.292  2.525  0.108  0.219\n",
      "2  Blend * Crop  2360.083   2  1180.042  2.178  0.142  0.195\n",
      "3      Residual  9753.250  18   541.847    NaN    NaN    NaN\n",
      "\n",
      "Two-way ANOVA with unbalanced design (requires statsmodels)\n",
      "\n",
      ">>> data = pg.read_dataset('anova2_unbalanced')\n",
      ">>> data.anova(dv=\"Scores\", between=[\"Diet\", \"Exercise\"],\n",
      "...            effsize=\"n2\").round(3)\n",
      "            Source       SS   DF       MS      F  p-unc     n2\n",
      "0             Diet  390.625  1.0  390.625  7.423  0.034  0.433\n",
      "1         Exercise  180.625  1.0  180.625  3.432  0.113  0.200\n",
      "2  Diet * Exercise   15.625  1.0   15.625  0.297  0.605  0.017\n",
      "3         Residual  315.750  6.0   52.625    NaN    NaN    NaN\n",
      "\n",
      "Three-way ANOVA, type 3 sums of squares (requires statsmodels)\n",
      "\n",
      ">>> data = pg.read_dataset('anova3')\n",
      ">>> data.anova(dv='Cholesterol', between=['Sex', 'Risk', 'Drug'],\n",
      "...            ss_type=3).round(3)\n",
      "              Source      SS    DF      MS       F  p-unc    np2\n",
      "0                Sex   2.075   1.0   2.075   2.462  0.123  0.049\n",
      "1               Risk  11.332   1.0  11.332  13.449  0.001  0.219\n",
      "2               Drug   0.816   2.0   0.408   0.484  0.619  0.020\n",
      "3         Sex * Risk   0.117   1.0   0.117   0.139  0.711  0.003\n",
      "4         Sex * Drug   2.564   2.0   1.282   1.522  0.229  0.060\n",
      "5        Risk * Drug   2.438   2.0   1.219   1.446  0.245  0.057\n",
      "6  Sex * Risk * Drug   1.844   2.0   0.922   1.094  0.343  0.044\n",
      "7           Residual  40.445  48.0   0.843     NaN    NaN    NaN\n",
      "\u001b[1;31mFile:\u001b[0m      c:\\programdata\\miniconda3\\envs\\pyenv\\lib\\site-packages\\pingouin\\parametric.py\n",
      "\u001b[1;31mType:\u001b[0m      function\n"
     ]
    }
   ],
   "source": [
    "?anova"
   ]
  },
  {
   "attachments": {},
   "cell_type": "markdown",
   "metadata": {},
   "source": [
    "Dieselbe Dokumentation können wir <a href=\"https://pingouin-stats.org/generated/pingouin.anova.html#pingouin.anova\">online</a> finden. Hierbei werden die mathematischen Formeln korrekt angezeigt.\n",
    "\n",
    "Q: Welche Voraussetzungen sollten laut der Dokumentation für eine ANOVA erfüllt werden? "
   ]
  },
  {
   "attachments": {},
   "cell_type": "markdown",
   "metadata": {},
   "source": []
  },
  {
   "attachments": {},
   "cell_type": "markdown",
   "metadata": {},
   "source": [
    "Q: Prüfe (visuell) die Voraussetzungen für die ANOVA. "
   ]
  },
  {
   "cell_type": "code",
   "execution_count": null,
   "metadata": {},
   "outputs": [],
   "source": []
  },
  {
   "cell_type": "code",
   "execution_count": 4,
   "metadata": {},
   "outputs": [
    {
     "data": {
      "text/html": [
       "<div>\n",
       "<style scoped>\n",
       "    .dataframe tbody tr th:only-of-type {\n",
       "        vertical-align: middle;\n",
       "    }\n",
       "\n",
       "    .dataframe tbody tr th {\n",
       "        vertical-align: top;\n",
       "    }\n",
       "\n",
       "    .dataframe thead th {\n",
       "        text-align: right;\n",
       "    }\n",
       "</style>\n",
       "<table border=\"1\" class=\"dataframe\">\n",
       "  <thead>\n",
       "    <tr style=\"text-align: right;\">\n",
       "      <th></th>\n",
       "      <th>Source</th>\n",
       "      <th>SS</th>\n",
       "      <th>DF</th>\n",
       "      <th>MS</th>\n",
       "      <th>F</th>\n",
       "      <th>p-unc</th>\n",
       "      <th>np2</th>\n",
       "    </tr>\n",
       "  </thead>\n",
       "  <tbody>\n",
       "    <tr>\n",
       "      <th>0</th>\n",
       "      <td>Species</td>\n",
       "      <td>7194.317439</td>\n",
       "      <td>2</td>\n",
       "      <td>3597.158720</td>\n",
       "      <td>410.600255</td>\n",
       "      <td>2.694614e-91</td>\n",
       "      <td>0.707809</td>\n",
       "    </tr>\n",
       "    <tr>\n",
       "      <th>1</th>\n",
       "      <td>Within</td>\n",
       "      <td>2969.888087</td>\n",
       "      <td>339</td>\n",
       "      <td>8.760732</td>\n",
       "      <td>NaN</td>\n",
       "      <td>NaN</td>\n",
       "      <td>NaN</td>\n",
       "    </tr>\n",
       "  </tbody>\n",
       "</table>\n",
       "</div>"
      ],
      "text/plain": [
       "    Source           SS   DF           MS           F         p-unc       np2\n",
       "0  Species  7194.317439    2  3597.158720  410.600255  2.694614e-91  0.707809\n",
       "1   Within  2969.888087  339     8.760732         NaN           NaN       NaN"
      ]
     },
     "execution_count": 4,
     "metadata": {},
     "output_type": "execute_result"
    }
   ],
   "source": [
    "anova(data=penguins, dv=\"Culmen Length (mm)\", between=\"Species\", detailed=True)"
   ]
  },
  {
   "attachments": {},
   "cell_type": "markdown",
   "metadata": {},
   "source": [
    "Die Berechnung der Freiheitsgrade (engl. *degrees of freedom*, DF), der *Sum of Squares* (SS), *Mean Squares* (MS), F-Werte (F), p-Werte (p-unc) und Effektstärke (als partial eta [$\\eta$] Quadrat) sind in der Dokumentation berichtet. Diese bietet uns auch Hilfe bei der Interpretation der Werte.\n",
    "\n",
    "Der F-Wert, die Tatsache, dass es zwei Freiheitsgrade gibt und auch einige Beschriftungen der Tabelle lässt sich unter anderem damit erklären, dass die ANOVA den Mittelwertsunterschied testet, indem verschiedene Varianzen (Between und within der Gruppen) verglichen werden.\n",
    "\n",
    "Der F-Wert berechnet sich zum Beispiel aus:\n",
    "\n",
    "$$F = \\frac{Signal}{Noise} = \\frac{Explained\\:variance}{Unexplained\\:variance} = \\frac{Between\\:group\\:variability}{Within\\:group\\:variability}$$\n",
    "\n",
    "Wenn man eine ANOVA berichtet, werden die Freiheitsgrade, der F-Wert, der P-Wert und im besten Fall noch die Effektstärke berichtet. Für die Freiheitsgrade werden sowohl die des untersuchten (between) Faktors (2) als auch die des (within Faktors) Residuums (339), also der übrigen Varianz, berichtet.\n",
    "\n",
    "Hierbei sollte eine gewisse Form mit kursiven Buchstaben und Leerzeichen beachtet werden. \n",
    "\n",
    "*F*(df1, df2) = F-Wert, *p* = .p-Wert (ohne 0 vor dem Komma, p-Wert unter .001 als *p* < .001) <br><br>\n",
    "Hier also: <br><br>\n",
    "*F*(2, 339) = 410.60, *p* < .001\n",
    "\n",
    "Wie dieser Effekt zustande kommt lässt sich anhand der Mittelwerte ablesen. Mittelwerte und Standardabweichungen für die Gruppen sollten auch berichtet werden, da dies Meta-Analysen erleichtert. Einen kurzen Überblick können wir uns mit einem Boxplot verschaffen. Das Pandas Modul ermöglicht aus Dataframes sehr schnell Plots zu erstellen."
   ]
  },
  {
   "cell_type": "code",
   "execution_count": null,
   "metadata": {},
   "outputs": [],
   "source": [
    "penguins.boxplot(column=\"Culmen Length (mm)\", by=\"Species\", figsize=(12, 8));"
   ]
  },
  {
   "attachments": {},
   "cell_type": "markdown",
   "metadata": {},
   "source": [
    "Q: Welche Pinguingruppe treibt wahrscheinlich den Effekt an?"
   ]
  },
  {
   "attachments": {},
   "cell_type": "markdown",
   "metadata": {},
   "source": []
  },
  {
   "attachments": {},
   "cell_type": "markdown",
   "metadata": {},
   "source": [
    "Dies lässt sich allerdings auch mit sogenannten Post-hoc Tests überprüfen. Die Pingouin Dokumentation kann hierbei auch helfen, den <a href=\"https://pingouin-stats.org/generated/pingouin.pairwise_tukey.html#pingouin.pairwise_tukey\">richtigen</a> Post-hoc Test zu finden. \n",
    "\n",
    "Q: Kannst du allein mit der Dokumenation herausfinden, wie der Post-hoc Test in Python durchgeführt und interpretiert wird? "
   ]
  },
  {
   "cell_type": "code",
   "execution_count": null,
   "metadata": {},
   "outputs": [],
   "source": []
  },
  {
   "cell_type": "code",
   "execution_count": null,
   "metadata": {},
   "outputs": [],
   "source": [
    "# Lösung\n",
    "\n",
    "from pingouin import (\n",
    "    pairwise_tukey as tukey,\n",
    ")  # eine weitere Möglichkeit des Imports, bei der dem Befehl ein neuer Name zugeordnet wird.\n",
    "\n",
    "tukey(\n",
    "    data=penguins,\n",
    "    dv=\"Culmen Length (mm)\",\n",
    "    between=\"Species\",\n",
    ")\n",
    "\n",
    "\"\"\"\n",
    "Wir sehen, dass der Mittelwert von allen drei Gruppen signifikant voneinander abweichen (p-tukey). \n",
    "Trotzdem zeigt uns die Effektstärke, dass besonders der Vergleich mit der Adelie Spezies zu großen Effekten führt (hedges).\n",
    "\"\"\""
   ]
  }
 ],
 "metadata": {
  "interpreter": {
   "hash": "96c17a2db5c38a2de969a45d136fb61824fd9646851df7b00ea3ccc8163d6a79"
  },
  "kernelspec": {
   "display_name": "Python 3.9.7 ('pyenv')",
   "language": "python",
   "name": "python3"
  },
  "language_info": {
   "codemirror_mode": {
    "name": "ipython",
    "version": 3
   },
   "file_extension": ".py",
   "mimetype": "text/x-python",
   "name": "python",
   "nbconvert_exporter": "python",
   "pygments_lexer": "ipython3",
   "version": "3.9.7"
  },
  "orig_nbformat": 4
 },
 "nbformat": 4,
 "nbformat_minor": 2
}
