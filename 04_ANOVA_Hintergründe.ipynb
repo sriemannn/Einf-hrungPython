{
 "cells": [
  {
   "cell_type": "markdown",
   "metadata": {},
   "source": [
    "# ANOVA Hintergründe \n",
    "\n",
    "Im letzten Notebook haben wir uns angesehen, wie eine ANOVA durchzuführen ist. Allerdings ist die dahinterstehende Mathematik nicht trivial. Deswegen und um es selbst nochmal zu wiederholen möchte ich mich mit euch in dem Notebook hier einmal mit der Statistik dahinter und den ganzen Werten beschäftigen. In der Hoffnung, dass das ganze nicht mehr ganz so fremd wirkt.\n",
    "\n",
    "Im letzten Teil habe ich euch schon mal diese Gleichung gezeigt:\n",
    "\n",
    "$$ F = \\frac{Signal}{Noise} = \\frac{Explained\\:variance}{Unexplained\\:variance} = \\frac{Between\\:group\\:variability}{Within\\:group\\:variability} $$\n",
    "\n",
    "Am Ende des Notebooks steht wieder die Formel für den F-Wert, doch dann sollte das ganze hoffentlich sehr viel mehr mit Inhalt für euch gefüllt sein."
   ]
  },
  {
   "cell_type": "code",
   "execution_count": null,
   "metadata": {},
   "outputs": [],
   "source": [
    "import pandas as pd\n",
    "import pingouin as pg\n",
    "\n",
    "penguins = pd.read_csv(\"./penguins_classification.csv\")\n",
    "\n",
    "anova_results = pg.anova(\n",
    "    data=penguins, dv=\"Culmen Length (mm)\", between=\"Species\", detailed=True\n",
    ")\n",
    "\n",
    "anova_results = anova_results.set_index(\"Source\")\n",
    "anova_results"
   ]
  },
  {
   "cell_type": "markdown",
   "metadata": {},
   "source": [
    "## Sum of Squares\n",
    "\n",
    "Nun möchte ich mir nochmal genauer mit euch ansehen, wie diese verschiedenen Varianzen berechnet werden, um ein besseres Gefühl für die Anwendung einer ANOVA zu bekommen, damit eine ANOVA nicht nur Statistik-Voodoo ist und ihr wisst, wo die ganzen Outputs einer ANOVA herkommen. Als ersten Schritt erstellen wir hierfür sogenannte Sums of Square (SS) die sind euch auch schon in der Output-Tabelle der ANOVA begegnet.\n",
    "\n",
    "$$SS = \\sum (x_i-M_{gesamt})^2$$\n",
    "\n",
    "D.h. von jeder Culmen Lenght (mm) wurde für die Berechnung der SS einmal der Gesamtmittelwert abgezogen und der erhaltene Wert wurde quadriert. Die Formel erinnert euch vielleicht an die allgemeine Formel für Varianz.\n",
    "\n",
    "$$\\sigma^2 = \\frac{\\sum (x_i - M)^2}{N}$$\n",
    "\n",
    "Für die Varianz würde man also eigentlich nur noch durch die Stichprobengröße teilen."
   ]
  },
  {
   "cell_type": "code",
   "execution_count": null,
   "metadata": {},
   "outputs": [],
   "source": [
    "import numpy as np\n",
    "\n",
    "x = penguins[\"Culmen Length (mm)\"].to_numpy()\n",
    "M_gesamt = np.mean(x)\n",
    "\n",
    "# ** ist die Schreibweise für Potenzen in Python, also 2 ** 2 = 4, und 3 ** 2 = 9, usw.\n",
    "# np.sum nimmt die Summe\n",
    "\n",
    "SS = np.sum((x - M_gesamt) ** 2)\n",
    "\n",
    "print(\n",
    "    f\"Die SS gesamt ausgerechnet: {SS:.2f}.\\n\"\n",
    "    f\"SS gesamt aus der ANOVA-Tabelle: {anova_results['SS']['Species'] + anova_results['SS']['Within']:.2f}.\"\n",
    ")"
   ]
  },
  {
   "cell_type": "markdown",
   "metadata": {},
   "source": [
    "### $SS_{within}$\n",
    "\n",
    "Die SS können wir auch für jede Gruppe der Pinguine errechnen. Damit das ganze etwas einfacher ist, schreiben wir hierfür eine Funktion.\n",
    "\n",
    "Funktionen haben in Python den folgenden Aufbau wobei in <> immer Teile stehen, wo ihr Namen dafür frei wählen könnt.\n",
    "\n",
    "```\n",
    "def <Name der Funktion>(<Input1>, <Input2>, ..., <InputN>):\n",
    "    \n",
    "    Irgendwelche Operationen, die die Inputs nutzen und einen <Output> produzieren\n",
    "\n",
    "    return <Output>\n",
    "\n",
    "```"
   ]
  },
  {
   "cell_type": "code",
   "execution_count": null,
   "metadata": {},
   "outputs": [],
   "source": [
    "def SumOfSquares(input_list):\n",
    "    \"\"\"\n",
    "    input_list - Liste mit Daten für die, die Sum of Squares berechnet werden soll.\n",
    "    \"\"\"\n",
    "    x = (\n",
    "        input_list.to_numpy()\n",
    "    )  # .to_numpy macht aus dem Pandas Dataframe/Series etwas womit numpy gut rechnen kann\n",
    "    Mx = np.mean(x)\n",
    "\n",
    "    return np.sum((x - Mx) ** 2)"
   ]
  },
  {
   "cell_type": "code",
   "execution_count": null,
   "metadata": {},
   "outputs": [],
   "source": [
    "# Für unsere Funktion müssen wir immer erst filtern, dass 1. nur die Pinguine einer Spezies übrig sind und\n",
    "# 2. nur die Werte für die Schnabelgröße\n",
    "SS_Adelie = SumOfSquares(\n",
    "    penguins[penguins[\"Species\"] == \"Adelie\"][\"Culmen Length (mm)\"]\n",
    ")\n",
    "SS_Gentoo = SumOfSquares(\n",
    "    penguins[penguins[\"Species\"] == \"Gentoo\"][\"Culmen Length (mm)\"]\n",
    ")\n",
    "SS_Chinstrap = SumOfSquares(\n",
    "    penguins[penguins[\"Species\"] == \"Chinstrap\"][\"Culmen Length (mm)\"]\n",
    ")\n",
    "\n",
    "print(\n",
    "    f\"Summe der Varianzen innerhalb der Gruppen: {SS_Adelie + SS_Gentoo + SS_Chinstrap:.2f}.\\n\"\n",
    "    f\"Within Group Varianz aus der ANOVA-Tabelle: {anova_results['SS']['Within']:.2f}.\"\n",
    ")"
   ]
  },
  {
   "cell_type": "markdown",
   "metadata": {},
   "source": [
    "Q: Mache dir nochmal bewusst, wie oben aus dem Dataframe nur die gewünschten Daten gefiltert werden! Was passiert, wenn `penguins[penguins[\"Species\"] == \"Adelie\"][\"Culmen Length (mm)\"]` eingegeben wird. Was sind die einzelnen Schritte, die hier auf eine Zeile reduziert werden?"
   ]
  },
  {
   "cell_type": "code",
   "execution_count": null,
   "metadata": {},
   "outputs": [],
   "source": []
  },
  {
   "cell_type": "markdown",
   "metadata": {},
   "source": [
    "Auch dieser Wert sollte euch aus der Tabelle oben bekannt vorkommen. Es ist die within SS. Also der Teil der Gesamtvarianz der nicht durch eine Gruppenzugehörigkeit erklärt werden kann, bzw. der Teil an Varianz der noch innerhalb der Gruppen existiert. \n",
    "\n",
    "### $SS_{between}$\n",
    "\n",
    "Die Varianz zwischen den Gruppen müssen wir jetzt auch noch errechnen. Da sich die Varianz am Ende zur Gesamtvarianz aufsummieren können wir das mit einer einfachen Differenz:"
   ]
  },
  {
   "cell_type": "code",
   "execution_count": null,
   "metadata": {},
   "outputs": [],
   "source": [
    "SS_within = SS_Adelie + SS_Gentoo + SS_Chinstrap\n",
    "\n",
    "SS_between1 = SS - SS_within\n",
    "\n",
    "print(\n",
    "    f\"Summe der Varianz zwischen den Gruppen ausgerechnet aus der Gesamtvarianz: {SS_between1:.2f}.\\n\"\n",
    "    f\"Between Group Varianz aus der ANOVA-Tabelle: {anova_results['SS']['Species']:.2f}.\"\n",
    ")"
   ]
  },
  {
   "cell_type": "markdown",
   "metadata": {},
   "source": [
    "Die andere Möglichkeit die Between Varianz zu errechnen erklärt vielleicht etwas anschaulicher, warum das nun die between Varianz ist. Hierfür wird ein Gesamtmittelwert gebildet und von den Gruppenmittelwerten abgezogen. Diese anschließend quadriert und mit der Gruppengröße multipliziert. Wir berechnen also die Varianz der Gruppenmittelwerte um den Gesamtmittelwert und tun am Ende so, als ob wir alle Individuuen in der Stichprobe durch die Mittelwerte in der Gruppe erklärt werden könnten (multiplizieren mal n).\n",
    "\n",
    "$$SS_{between} = \\sum n_i(M_i - M_{gesamt})^2$$\n",
    "\n",
    "Damit der Code um das zu berechnen nicht zu unübersichtlich wird, nutzen wir einige bekannte Pandas Funktionen und einige neue. `.groupby´ erlaubt uns unsere Daten nach Kategorien zu gruppieren und anschließend Statistiken darauf anzuwenden. So können wir für jede Spezies den Mittelwert der Schnabellänge herausfinden."
   ]
  },
  {
   "cell_type": "code",
   "execution_count": null,
   "metadata": {},
   "outputs": [],
   "source": [
    "Group_means = penguins.groupby(\"Species\").mean()[\"Culmen Length (mm)\"]\n",
    "\n",
    "Group_means"
   ]
  },
  {
   "cell_type": "markdown",
   "metadata": {},
   "source": [
    "Außerdem benötigen wir den Gesamtmittelwert und die Gruppengrößen. Den Gesamtmittelwert haben wir zum Glück oben bereits einmal ausgerechnet und `M_gesamt` genannt."
   ]
  },
  {
   "cell_type": "code",
   "execution_count": null,
   "metadata": {},
   "outputs": [],
   "source": [
    "Group_n = penguins.groupby(\"Species\").count()[\"Culmen Length (mm)\"]\n",
    "# wir nutzen hier groupby statt value_counts, um die Reihenfolge beizubehalten\n",
    "\n",
    "Group_n"
   ]
  },
  {
   "cell_type": "code",
   "execution_count": null,
   "metadata": {},
   "outputs": [],
   "source": [
    "SS_between2 = np.sum(Group_n * (Group_means - M_gesamt) ** 2)\n",
    "\n",
    "print(\n",
    "    f\"Summe der Varianz zwischen den Gruppen ausgerechnet aus der Gesamtvarianz: {SS_between1:.2f}.\\n\"\n",
    "    f\"Between Group Varianz aus der ANOVA-Tabelle: {anova_results['SS']['Species']:.2f}.\\n\"\n",
    "    f\"Between Group Varianz errechnet als Varianz der Gruppenmittelwerte vom Gesamtmittelwert: {SS_between2:.2f}.\"\n",
    ")"
   ]
  },
  {
   "cell_type": "markdown",
   "metadata": {},
   "source": [
    "## Mean Squares und Freiheitsgrade\n",
    "\n",
    "Um von der SS auf mean square (MS) zu kommen, brauchen wir die sogennanten Freiheitsgrade (engl., *degrees of freedom*, DF). Diese beschreiben, sehr abstrakt um wie viele Dimensionen wir unsere Daten reduzieren, um sie zu beschreiben. Die Berechnung der mean squares ist eine Standardisierung und erleichtert uns damit die Interpretation.\n",
    "\n",
    "Was das bedeutet, wird hoffentlich anhand des Beispiels klarer.\n",
    "\n",
    "Die Formel für das $MS_{between}$ ist:\n",
    "\n",
    "$$MS_{between} = \\frac{SS_{between}}{k - 1} = \\frac{SS_{between}}{df_{between}}$$ \n",
    "\n",
    "\n",
    "k steht für die Anzahl der Gruppen. Wenn ihr an die zweite Möglichkeit denkt die between Varianz zu berechnen, haben wir dort die die Varianz der 3 Gruppenmittelwerte um den einzelnen Gesamtmittelwert berechnet. Die drei Gruppenmittelwerte geben also hier unsere Anzahl an Dimensionen an, in der unsere \"Stichprobe\" variieren kann. Der Gesamtmittelwert wäre quasi könnte man als deskriptive Beschreibung der Gruppenmittelwerte nutzen, diese deskriptive Beschreibung nutzt allerdings eine Dimension unserer k = 3 Dimensionen. Das bedeutet dass \"- 1\" im Nenner des Bruches durch diesen Mittelwert zustande kommt. "
   ]
  },
  {
   "cell_type": "code",
   "execution_count": null,
   "metadata": {},
   "outputs": [],
   "source": [
    "k = penguins[\"Species\"].nunique()  # Anzahl an einzigartigen Einträgen in der Spalte.\n",
    "\n",
    "MS_between = SS_between2 / (k - 1)\n",
    "\n",
    "print(\n",
    "    f\"Mean square between berechnet: {MS_between:.2f}\\n\"\n",
    "    f\"MS between aus der ANOVA-Tabelle: {anova_results['MS']['Species']:.2f}\"\n",
    ")"
   ]
  },
  {
   "cell_type": "markdown",
   "metadata": {},
   "source": [
    "Auch den Wert kennen wir schon aus der ANOVA-Tabelle von oben.\n",
    "\n",
    "Bei der Berechnung der within Varianz hingegen haben wir oben für jede Gruppe an Pinguinen einen Mittelwert gebildet. In unserem Fall bedeutet das: $df_{within} = (N_{Adelie} - 1) + (N_{Gentoo} - 1) + (N_{Chinstrap} -1)$\n",
    "\n",
    "Allgemein:\n",
    "\n",
    "$$MS_{within} = \\frac{SS_{within}}{N - k} = \\frac{SS_{within}}{df_{within}}$$\n",
    "\n",
    "wobei k wieder die Anzahl der Gruppen ist\n"
   ]
  },
  {
   "cell_type": "code",
   "execution_count": null,
   "metadata": {},
   "outputs": [],
   "source": [
    "N = len(penguins)\n",
    "\n",
    "MS_within = SS_within / (N - k)\n",
    "\n",
    "print(\n",
    "    f\"Mean square within berechnet: {MS_within:.2f}\\n\"\n",
    "    f\"MS within aus der ANOVA-Tabelle: {anova_results['MS']['Within']:.2f}\"\n",
    ")"
   ]
  },
  {
   "cell_type": "markdown",
   "metadata": {},
   "source": [
    "## F-Wert\n",
    "\n",
    "Der F-Wert ist letztendlich nur die Relation der $MS_{between}$ und $MS_{within}$ und gibt uns damit einen Anhaltspunkt wie viel der Gesamtvarianz wir erklären können:\n",
    "\n",
    "$$F = \\frac{MS_{between}}{MS_{within}}$$"
   ]
  },
  {
   "cell_type": "code",
   "execution_count": null,
   "metadata": {},
   "outputs": [],
   "source": [
    "F = MS_between / MS_within\n",
    "\n",
    "print(\n",
    "    f\"F-Wert berechnet: {F:.2f}\\n\"\n",
    "    f\"F-Wert der ANOVA-Tabelle: {anova_results['F']['Species']:.2f}\"\n",
    ")"
   ]
  },
  {
   "cell_type": "markdown",
   "metadata": {},
   "source": [
    "Mithilfe des F-Werts und den Freiheitsgraden kann man anschließend den p-Wert aus einer Verteilungstabelle ablesen. Wichtig ist, dass die F-Verteilung eine Wahrscheinlichkeitsdichtefunktion ist. Die genaue Mathematik dahinter übersteigt auch mein Wissen.\n",
    "\n",
    "Hier aber eine gute <a href=\"https://www.statlect.com/probability-distributions/F-distribution#DensityPlots\">Ressource</a>, an der man sieht, wie die Freiheitsgrade auf die F-Verteilung wirken."
   ]
  },
  {
   "cell_type": "markdown",
   "metadata": {},
   "source": [
    "## (Partielles) $\\eta^2$\n",
    "\n",
    "Zuletzt noch die Effektstärke, die bei einer ANOVA angegeben werden kann. Eta Quadrat oder das partielle Eta Quadrat. Die beiden Werte sind gleich, wenn man nur eine unabhängige Variable hat. Daher auch in unserem Beispiel. Trotzdem hier einmal beide Formeln.\n",
    "\n",
    "$$\\eta^2 = \\frac{SS_{effect}}{SS_{gesamt}}$$\n",
    "\n",
    "und \n",
    "\n",
    "$$partielles\\:\\eta^2 = \\frac{SS_{effect}}{SS_{effect} + SS_{within}}$$\n",
    "\n",
    "Da wir nur eine unabhängige Variable haben, entspricht unsere $SS_{effect}$ immer unserer $SS_{between}$. Ihr könnt euch aber vielleicht vorstellen, dass die beiden Formeln unterschiedliche Werte produzieren, wenn man mehrere Effekte hat."
   ]
  },
  {
   "cell_type": "code",
   "execution_count": null,
   "metadata": {},
   "outputs": [],
   "source": [
    "eta = SS_between2 / SS\n",
    "\n",
    "p_eta = SS_between2 / (SS_between2 + SS_within)\n",
    "\n",
    "print(f\"{eta:.2f} | {p_eta:.2f} | {anova_results['np2']['Species']:.2f}\")"
   ]
  },
  {
   "cell_type": "markdown",
   "metadata": {},
   "source": [
    "Q: Kannst du genauso für \"Culmen Depth (mm)\" eine ANOVA rechnen und im Anschluss die Tabelle reproduzieren? Versuche dir hierbei nochmal klarzumachen, welche Varianzen verglichen werden und in welchen Beziehungen die einzelnen Outputs der ANOVA-Tabelle stehen!"
   ]
  },
  {
   "cell_type": "code",
   "execution_count": null,
   "metadata": {},
   "outputs": [],
   "source": []
  },
  {
   "cell_type": "markdown",
   "metadata": {},
   "source": [
    "## Quellen\n",
    "\n",
    "1. http://pytolearn.csd.auth.gr/d1-hyptest/12/ptl_anova1.html\n",
    "2. http://vassarstats.net/textbook/index.html\n"
   ]
  }
 ],
 "metadata": {
  "interpreter": {
   "hash": "96c17a2db5c38a2de969a45d136fb61824fd9646851df7b00ea3ccc8163d6a79"
  },
  "kernelspec": {
   "display_name": "Python 3.9.7 ('pyenv')",
   "language": "python",
   "name": "python3"
  },
  "language_info": {
   "codemirror_mode": {
    "name": "ipython",
    "version": 3
   },
   "file_extension": ".py",
   "mimetype": "text/x-python",
   "name": "python",
   "nbconvert_exporter": "python",
   "pygments_lexer": "ipython3",
   "version": "3.9.7"
  },
  "orig_nbformat": 4
 },
 "nbformat": 4,
 "nbformat_minor": 2
}
