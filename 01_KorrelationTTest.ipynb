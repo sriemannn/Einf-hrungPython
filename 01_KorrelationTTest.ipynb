{
 "cells": [
  {
   "attachments": {},
   "cell_type": "markdown",
   "metadata": {},
   "source": [
    "# Korrelationen\n",
    "\n",
    "In den folgenden Notebook geht es darum einen Datensatz zu laden und einfache Inferenzstatistik durchzuführen.\n",
    "\n",
    "Zuerst laden wir hierfür einen Datensatz mit dem Modul Pandas und bekommen einen kurzen Überblick über den Aufbau der Tabelle mit der `.head()` und der `.shape` Methode, die auf den Datensatz angewandt werden. Methoden sind Befehle, die speziell für einen Datentyp sind und sie zeichnen sich dadurch aus, dass sie mit einem Punkt an die Variable angehangt werden, auf die sie angewandt werden. In diesem Fall einen Pandas DataFrame. "
   ]
  },
  {
   "cell_type": "code",
   "execution_count": null,
   "metadata": {},
   "outputs": [],
   "source": [
    "import pandas as pd\n",
    "\n",
    "penguins = pd.read_csv(\n",
    "    \"./penguins_classification.csv\"\n",
    ")  # Der Punkt ist ein 'relativer Pfad', der dazu führt, dass im selben Ordner nach den Daten gesucht wird, wie das Skript ist.\n",
    "print(penguins.head())\n",
    "print(penguins.shape)"
   ]
  },
  {
   "attachments": {},
   "cell_type": "markdown",
   "metadata": {},
   "source": [
    "Die `.head()` Methode zeigt uns die ersten Teile des Dataframes und dass die Tabelle drei Spalten enthält drei Spalten mit den Namen \"Culmen Length (mm)\", \"Culmen Depth (mm)\", \"Species\".\n",
    "\n",
    "Die `.shape` Methode zeigt uns die Dimensionen des Dataframes an. Der Dataframe hat (Zeilen, Spalten). Also 342 Zeilen und 3 Spalten.\n",
    "\n",
    "Weitere Einblicke können Methoden wie `.describe` geben. Die einige Deskriptive Statistiken ausgeben."
   ]
  },
  {
   "cell_type": "code",
   "execution_count": null,
   "metadata": {},
   "outputs": [],
   "source": [
    "penguins.describe()"
   ]
  },
  {
   "attachments": {},
   "cell_type": "markdown",
   "metadata": {},
   "source": [
    "Das wichtigste, was wir aus der `.describe()` Methode lernen können ist, ob die numerischen Variablen normalverteilt sind. Wenn die Zeile 50% (also der Median) und der Mittelwert ungefähr gleich sind sind die Daten ungefähr symmetrisch. Außerdem bekommen wir durch die Standardabweichung und die anderen Quartile (25%, 75%) wie die Daten streuen.\n",
    "\n",
    "Die meisten der Befehle (siehe Spaltennamen des Outputs der `.describe` Methode) können auch einzeln auf Spalten angewandt werden, z.B.: "
   ]
  },
  {
   "cell_type": "code",
   "execution_count": null,
   "metadata": {},
   "outputs": [],
   "source": [
    "penguins[\"Culmen Length (mm)\"].count()  # Anzahl der Einträge"
   ]
  },
  {
   "cell_type": "code",
   "execution_count": null,
   "metadata": {},
   "outputs": [],
   "source": [
    "penguins[\"Culmen Depth (mm)\"].max()  # höchster Wert"
   ]
  },
  {
   "attachments": {},
   "cell_type": "markdown",
   "metadata": {},
   "source": [
    "Über die Species Spalte bekommen wir mit `.describe()`keine Auskunft, da es sich um eine Kategoriale Variable handelt, die auch nicht z.B. <a href=\"https://de.wikipedia.org/wiki/Dummy-Variable\">Dummy Kodiert</a> ist und auch dann wäre die Menge an Informationen, die gewonnen werden kann begrenzt. Alternativ können wir etwas mit `value_counts()` herausfinden."
   ]
  },
  {
   "cell_type": "code",
   "execution_count": null,
   "metadata": {},
   "outputs": [],
   "source": [
    "penguins[\"Species\"].value_counts()"
   ]
  },
  {
   "attachments": {},
   "cell_type": "markdown",
   "metadata": {},
   "source": [
    "Ähnliches wie durch die `.describe()` Methode, können wir durch Plots lernen. der jointplot erlaubt uns einen Scatterplot von zwei Variablen zu erstellen, der die Beziehung zwischen zwei Variablen beleuchtet und Histogramme, die die Verteilung der einzelnen Variablen beleuchtet.\n",
    "\n",
    "Hierzu muss eventuell erst das Modul Seaborn installiert werden. Das kann durch das entfernen des \"#\" und das Ausführen, der folgenden Zeile erreicht werden."
   ]
  },
  {
   "cell_type": "code",
   "execution_count": null,
   "metadata": {},
   "outputs": [],
   "source": [
    "# Falls seaborn nicht installiert ist vor der letzten Zeile dieser Zelle das \"#\" entfernen und einmal ausführen,\n",
    "# danach \"#\" wieder hinzufügen.\n",
    "\n",
    "#%conda install -c conda-forge seaborn"
   ]
  },
  {
   "cell_type": "code",
   "execution_count": null,
   "metadata": {},
   "outputs": [],
   "source": [
    "?sns.jointplot"
   ]
  },
  {
   "cell_type": "code",
   "execution_count": null,
   "metadata": {},
   "outputs": [],
   "source": [
    "import seaborn as sns\n",
    "\n",
    "sns.jointplot(data=penguins, x=\"Culmen Length (mm)\", y=\"Culmen Depth (mm)\");"
   ]
  },
  {
   "attachments": {},
   "cell_type": "markdown",
   "metadata": {},
   "source": [
    "Die Verteilung im Scatterplot wirkt erstmal als ob kein spezieller Zusammenhang zwischen Schnabellänge und Tiefe besteht. Einen noch genaueren Überblick können wir bekommen, wenn wir den Scatterplot in der Mitte abhängig von den verschiedenen Species einfärben mit dem hue Argument."
   ]
  },
  {
   "cell_type": "code",
   "execution_count": null,
   "metadata": {},
   "outputs": [],
   "source": [
    "sns.jointplot(\n",
    "    data=penguins, x=\"Culmen Length (mm)\", y=\"Culmen Depth (mm)\", hue=\"Species\"\n",
    ");"
   ]
  },
  {
   "attachments": {},
   "cell_type": "markdown",
   "metadata": {},
   "source": [
    "Wenn wir uns diese Verteilungen ansehen, könnte der Eindruck entstehen, dass (1) die Adelie, bzw. Chinstrap Pinguine eine andere Schnabelteife als Gentoo Pinguine haben, Gento bzw. Cinstrap Pinguine sich in der Schnabellänge Adelia unterscheiden; (2) dass die Schnabellängen und -tiefen innerhalb der Spezies miteinander korrelieren."
   ]
  },
  {
   "attachments": {},
   "cell_type": "markdown",
   "metadata": {},
   "source": [
    "# Korrelation\n",
    "\n",
    "Zuerst beschäftigen wir uns mit der Korrelation zwischen Schnabellänge und -tiefe in der Adelie. Hierfür müssen wir alle Adelie Pinguine herausfiltern und mit der `scipy.stats.pearsonr` Funktion des scipy Moduls die Korrelation errechnen."
   ]
  },
  {
   "cell_type": "code",
   "execution_count": null,
   "metadata": {},
   "outputs": [],
   "source": [
    "# Reminder Filtern, Schritt für Schritt\n",
    "\n",
    "# 1. Welche Zeilen enthalten Adelie Pinguine\n",
    "\n",
    "enthältAdelie = penguins[\"Species\"] == \"Adelie\"\n",
    "print(\n",
    "    enthältAdelie\n",
    ")  # Pandas Series mit True, falls in der Zeile ein Adelie Pinguin ist, False wenn nicht"
   ]
  },
  {
   "cell_type": "code",
   "execution_count": null,
   "metadata": {},
   "outputs": [],
   "source": [
    "Adelie = penguins[enthältAdelie]\n",
    "print(Adelie.head())"
   ]
  },
  {
   "attachments": {},
   "cell_type": "markdown",
   "metadata": {},
   "source": [
    "Q: Wie ist der Mittelwert und der Median der Culmen Length (mm)/Depth (mm) nur in der Species Adelie?"
   ]
  },
  {
   "cell_type": "code",
   "execution_count": null,
   "metadata": {},
   "outputs": [],
   "source": []
  },
  {
   "attachments": {},
   "cell_type": "markdown",
   "metadata": {},
   "source": [
    "Q: Kannst du einen jointplot nur für die neue Adelie-Tabelle erstellen?"
   ]
  },
  {
   "cell_type": "code",
   "execution_count": null,
   "metadata": {},
   "outputs": [],
   "source": []
  },
  {
   "attachments": {},
   "cell_type": "markdown",
   "metadata": {},
   "source": [
    "Weiter mit der Korrelation. Die `pearsonr` Funktion gibt einen r-Wert und einen p-Wert aus, die wir den Variablen `r` und `p_value` zuordnen und anschließend mit einem sogenannte f-string (f für formated) ausgeben. Der f-string gekennzeichnet durch ein f vor den \"\" erlaubt uns Variablen in den String einzufügen und zu formatieren, z.B. gibt :.2f an, dass 2 Nachkommastellen ausgegeben werden sollen."
   ]
  },
  {
   "cell_type": "code",
   "execution_count": null,
   "metadata": {},
   "outputs": [],
   "source": [
    "#%conda install -c conda-forge scipy\n",
    "\n",
    "from scipy.stats import pearsonr\n",
    "\n",
    "x = Adelie[\"Culmen Length (mm)\"]\n",
    "y = Adelie[\"Culmen Depth (mm)\"]\n",
    "\n",
    "r, p_value = pearsonr(x, y)\n",
    "\n",
    "print(\n",
    "    f\"Die Korrelation zwischen Culmen Length (mm) und Culmen Depth (mm) ist {r:.2f} mit einem P-Wert von {p_value:.3f}.\"\n",
    ")"
   ]
  },
  {
   "attachments": {},
   "cell_type": "markdown",
   "metadata": {},
   "source": [
    "Q: Wiederhole die Korrelation für die anderen beiden Pinguinspezies."
   ]
  },
  {
   "cell_type": "code",
   "execution_count": null,
   "metadata": {},
   "outputs": [],
   "source": []
  },
  {
   "attachments": {},
   "cell_type": "markdown",
   "metadata": {},
   "source": [
    "# T-Tests\n",
    "\n",
    "T-Tests ermitteln, ob sich der Mittelwert von zwei Stichproben signifikant unterscheiden. Es gibt gepaarte und ungepaart, bzw. mit und ohne Messwiederholung. Die Annahme ist wichtig, da bei einer Messwiederholung ein Teil der Varianz durch das Individuum selbst, was dasselbe bleibt, erklärt werden kann. Im nächsten Teil werden wir untersuchen, ob sich die Schnabellänge von Adelie und Gentoo Pinguinen unterscheiden."
   ]
  },
  {
   "cell_type": "code",
   "execution_count": null,
   "metadata": {},
   "outputs": [],
   "source": [
    "from scipy.stats import ttest_ind\n",
    "\n",
    "x = Adelie[\"Culmen Length (mm)\"]\n",
    "\n",
    "enthältGentoo = penguins[\"Species\"] == \"Gentoo\"\n",
    "Gentoo = penguins[enthältGentoo]\n",
    "y = Gentoo[\"Culmen Length (mm)\"]\n",
    "\n",
    "t, p_value = ttest_ind(x, y, equal_var=False)\n",
    "\n",
    "print(\n",
    "    f\"Der T-Test zwischen Adelie und Gentoo Schnabellänge ergibt einen t-Wert von {t:.2f} mit einem Signifikanzniveau von {p_value:.3f}\"\n",
    ")"
   ]
  },
  {
   "attachments": {},
   "cell_type": "markdown",
   "metadata": {},
   "source": [
    "Etwas ausführlichere Teststatistiken sind mit den Modul Pingouin möglich."
   ]
  },
  {
   "cell_type": "code",
   "execution_count": null,
   "metadata": {},
   "outputs": [],
   "source": [
    "#%conda install -c conda-forge pingouin\n",
    "\n",
    "import pingouin as pg\n",
    "\n",
    "pg.ttest(x, y, paired=False)"
   ]
  },
  {
   "attachments": {},
   "cell_type": "markdown",
   "metadata": {},
   "source": [
    "Q: Wiederhole die T-Tests und für alle weiteren möglichen Kombinationen"
   ]
  },
  {
   "cell_type": "code",
   "execution_count": null,
   "metadata": {},
   "outputs": [],
   "source": []
  },
  {
   "attachments": {},
   "cell_type": "markdown",
   "metadata": {},
   "source": [
    "# Anmerkung\n",
    "\n",
    "Normalerweise würde man es vermeiden mehrere T-Tests zu rechnen und stattdessen einen anderen Test rechnen, der den Gesamtendatensatz umspannt. Das ist vor allem deswegen der Fall, weil durch mehrere Tests der Alphafehler-Kummuliert, d.h. es wird wahrscheinlicher ein falsch-positives Ergebnis zu bekommen durch puren Zufall. Normalerweise gehen wir davon aus, dass ein p-Wert < 0.05 signifikant ist, d.h. 5 von 100 Tests sind falsch-positiv. Die einfachste Anpassung wäre einfach die Signifikanzgrenze (0.05) durch die Anzahl der Tests (die du oben durchgeführt hast) zu rechnen. \n",
    "\n",
    "Führe diese Anpassung der Signifikanzgrenze durch."
   ]
  },
  {
   "cell_type": "code",
   "execution_count": null,
   "metadata": {},
   "outputs": [],
   "source": []
  },
  {
   "attachments": {},
   "cell_type": "markdown",
   "metadata": {},
   "source": [
    "Q: Was bedeutet dies für die oben gerechneten T-Tests?"
   ]
  },
  {
   "attachments": {},
   "cell_type": "markdown",
   "metadata": {},
   "source": []
  },
  {
   "attachments": {},
   "cell_type": "markdown",
   "metadata": {},
   "source": [
    "Q: Es gibt von Pingouin auch einen Korrelationsbefehl. Kannst du herausfinden (googlen) wie dieser anzuwenden ist und die Aufgabe von oben wiederholen?"
   ]
  },
  {
   "cell_type": "code",
   "execution_count": null,
   "metadata": {},
   "outputs": [],
   "source": []
  }
 ],
 "metadata": {
  "interpreter": {
   "hash": "4982c5c0bdc004da750e333977e80a64d2d36d313a72e477560f2ed7fc553481"
  },
  "kernelspec": {
   "display_name": "Python 3.9.12 ('base')",
   "language": "python",
   "name": "python3"
  },
  "language_info": {
   "codemirror_mode": {
    "name": "ipython",
    "version": 3
   },
   "file_extension": ".py",
   "mimetype": "text/x-python",
   "name": "python",
   "nbconvert_exporter": "python",
   "pygments_lexer": "ipython3",
   "version": "3.8.12"
  },
  "orig_nbformat": 4
 },
 "nbformat": 4,
 "nbformat_minor": 2
}
