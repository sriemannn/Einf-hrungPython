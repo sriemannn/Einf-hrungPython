{
 "cells": [
  {
   "cell_type": "markdown",
   "metadata": {},
   "source": [
    "# ANOVA mit Messwiederholungen\n",
    "\n",
    "In dem letzten Teil haben wir uns ANOVAs angesehen, die sich mit einem Faktor (\"Culmen Length (mm)\") zwischen verschiedenen Individuuen beschäftigt. Also einem sogenannten between subjects factor. Die Variation zwischen den Gruppen also der between factor war der für uns interessante Effekt. Was ist aber, wenn wir wiederholt dieselbe Person messen, dann können wir nicht ohne weiteres dieselbe Logik anwenden, da wir die Variiation innerhalb der Gruppen, den within subjects factor, einfach als Fehler angesehen haben? Das wir das beim letzten Mal einfach so gemacht haben, verdeutlicht die Formel für den F-Wert.\n",
    "\n",
    "\n",
    "$$ F = \\frac{Signal}{Noise} = \\frac{Explained\\:variance}{Unexplained\\:variance} = \\frac{Between\\:group\\:variability}{Within\\:group\\:variability} $$\n",
    "\n",
    "Wenn wir allerdings Messwiederholungen haben, sind in jeder Gruppe dieselben Individuuen und allein dadurch lässt sich einiges der Variablität innerhalb der Gruppen erklären. Wir teilen also die Within group Varianz im Nenner weiter auf. \n",
    "\n",
    "$$Within\\:group\\:variability = Subject\\:variability + Error$$\n",
    "\n",
    "Da die durch die einzelnen Subjects erklärte Variabliltät (und es sich ja um erklärte Varianz handelt) nichts zur Frage beiträgt, ob über die Zeit/verschiedene Interventionen zu unterschiedlichen Werten führt, wird die Formel für den F-Wert angepasst für die ANOVA mit Messwiederholungen.\n",
    "\n",
    "$$ F = \\frac{Signal}{Noise} = \\frac{Explained\\:variance}{Unexplained\\:variance} = \\frac{Between\\:group\\:variability}{Error} $$"
   ]
  },
  {
   "cell_type": "markdown",
   "metadata": {},
   "source": [
    "Unser Pinugindatensatz enthält allerdings keine Messwiederholungen, wie wir sehen, wenn wir ihn uns nochmal ansehen"
   ]
  },
  {
   "cell_type": "code",
   "execution_count": null,
   "metadata": {},
   "outputs": [],
   "source": [
    "import pandas as pd\n",
    "\n",
    "penguins = pd.read_csv(\"./penguins_classification.csv\")\n",
    "\n",
    "penguins.head()"
   ]
  },
  {
   "cell_type": "markdown",
   "metadata": {},
   "source": [
    "In der nächsten Zelle passiert ziemlich viel Code, der nur dazu da ist unseren zweiten und dritten Zeitpunkt zu generieren und unseren Dataframe für eine repeated ANOVA vorzubereiten. Hierfür müssen wir verschiedene Dinge beachten. Eine repeated ANOVA braucht zum Beispiel einen Identifier, um zu wissen, welcher Wert zu welchem Individuum gehört (in unseren Simulierten Daten ändert sich die \"Culmen Depth (mm)\" nicht über die Zeit und die Species der Pinguine bleibt auch konstant, daher ist der Code für diese beiden parameter sehr ähnlich wie für die Identifier). Außerdem brauchen wir eine Variable (z.B. \"time\"), die den Messzeitpunkt kodiert und außerdem die Variable \"Culmen Length (mm)\", die sich über unsere drei Messzeitpunkte verändern soll. Dafür füge ich zu dem ursprünglichen Wert aus unseren Daten einen zufällig generierten Wert hinzu, um Schnabelwachstum zu simulieren. \n",
    "\n",
    "Ihr müsst nicht 100% verstehen, was in dieser Zelle passiert. Am allerwichtigsten sind die letzten zwei Zeile. Auch hier passiert ziemlich viel, wenn man sie Stück für Stück durchgeht wird es aber alles klar.\n",
    "\n",
    "1. Wir entfernen die Spalten \"Species\" und \"id\" aus unserem neu erstellten DataFrame penguins_rm. \n",
    "2. Wir Gruppieren die Werte von \"Culmen Length (mm)\" und \"Culmen Depth (mm)\" nach der Zeit und lassen uns für beides den Mittelwert und die Standardabweichung ausgeben. Das ist quasi eine Weitere Methode um solche Übersichten wie mit `.describe` zu erstellen. Das könnte man auch statt `.agg([\"mean\", \"std\"])` anhängen. Die vielen Outputs von `.describe` sind mir hier allerdings zu unübersichtlich "
   ]
  },
  {
   "cell_type": "code",
   "execution_count": null,
   "metadata": {},
   "outputs": [],
   "source": [
    "## generate t2 and t3\n",
    "\n",
    "import numpy as np\n",
    "# np.random.rand generiert einen zufälligen Vektor mit den in den Klammern angegebenen Dimensionen\n",
    "penguins_rm = pd.DataFrame({\n",
    "    \"id\": np.resize(np.arange(0, len(penguins)), 3*len(penguins)), # Id erstellen und dreimal wiederholen, da wir drei Messzeitpunkte haben\n",
    "    \"time\": [\"t1\"] * len(penguins) + [\"t2\"] * len(penguins) + [\"t3\"] * len(penguins), # \n",
    "    \"Culmen Length (mm)\": pd.concat([\n",
    "        penguins[\"Culmen Length (mm)\"],\n",
    "        penguins[\"Culmen Length (mm)\"] + np.random.rand(len(penguins)),\n",
    "        penguins[\"Culmen Length (mm)\"] + 0.5 + np.random.rand(len(penguins))\n",
    "        ]),\n",
    "    \"Culmen Depth (mm)\": np.resize(penguins[\"Culmen Depth (mm)\"], 3*len(penguins)),\n",
    "    \"Species\": np.resize(penguins[\"Species\"], 3*len(penguins))\n",
    "})\n",
    "\n",
    "penguins_rm_numerical = penguins_rm.drop(columns=[\"Species\", \"id\"])\n",
    "penguins_rm_numerical.groupby([\"time\"]).agg([\"mean\", \"std\"])"
   ]
  },
  {
   "cell_type": "markdown",
   "metadata": {},
   "source": [
    "Mit dem Datensatz können wir nun eine ANOVA mit Messwiederholungen rechnen. Die Documentation gibt uns wieder einen Hinweis, was die einzelnen Arguments bedeuten."
   ]
  },
  {
   "cell_type": "code",
   "execution_count": null,
   "metadata": {},
   "outputs": [],
   "source": [
    "import pingouin as pg\n",
    "\n",
    "?pg.rm_anova"
   ]
  },
  {
   "cell_type": "code",
   "execution_count": null,
   "metadata": {},
   "outputs": [],
   "source": [
    "rm_anova_results = pg.rm_anova(\n",
    "    data=penguins_rm,\n",
    "    dv=\"Culmen Length (mm)\",\n",
    "    within=\"time\",\n",
    "    subject=\"id\",\n",
    "    detailed=True,\n",
    ")\n",
    "\n",
    "rm_anova_results = rm_anova_results.set_index(\"Source\")\n",
    "rm_anova_results.round(3) # .round(3) rundet die ANOVA-Ergebnisse auf drei Nachkommastellen"
   ]
  },
  {
   "cell_type": "markdown",
   "metadata": {},
   "source": [
    "## Sums of Square\n",
    "\n",
    "Hier können wir am einfachsten auch wieder die $SS_{gesamt}$ ausrechnen. Also die gesamte in unserer Stichprobe vorhandene Variablität. Allerdings lässt sich das errechnete Ergebnis nicht mehr so einfach auf seine Richtigkeit prüfen, indem wir alles SS aus der Tabelle des ANOVA Outputs zusammenrechnen. Das liegt vor allem daran, dass die $SS_{within}$ bei einer ANOVA mit Messwiederholungen weiter aufgeteilt werden, da in jeder Gruppe dieselben Individuen sind. \n",
    "\n",
    "Q: Kannst du die $SS_{gesamt}$ errechnen? "
   ]
  },
  {
   "cell_type": "code",
   "execution_count": null,
   "metadata": {},
   "outputs": [],
   "source": []
  },
  {
   "cell_type": "code",
   "execution_count": null,
   "metadata": {},
   "outputs": [],
   "source": [
    "# Lösung\n",
    "x = penguins_rm[\"Culmen Length (mm)\"]\n",
    "M_gesamt = np.mean(x)\n",
    "\n",
    "SS_gesamt = np.sum( (x - M_gesamt) ** 2)\n",
    "SS_gesamt"
   ]
  },
  {
   "cell_type": "markdown",
   "metadata": {},
   "source": [
    "### $SS_{within}$\n",
    "\n",
    "Die Berechnung der SS within ist analog zur ANOVA ohne Messwiederholungen. Wir nehmen unseren drei Gruppen berechnen für jede innerhalb jeder Gruppe die Summe des quadrierten Mittelwerts und summieren diese wieder auf."
   ]
  },
  {
   "cell_type": "code",
   "execution_count": null,
   "metadata": {},
   "outputs": [],
   "source": [
    "def SumOfSquares(input_list):\n",
    "    \"\"\"\n",
    "    input_list - Liste mit Daten für die, die Sum of Squares berechnet werden soll.\n",
    "    \"\"\"\n",
    "    x = input_list.to_numpy() # .to_numpy macht aus dem Pandas Dataframe/Series etwas womit numpy gut rechnen kann\n",
    "    Mx = np.mean(x)\n",
    "    \n",
    "    return np.sum((x - Mx) ** 2)"
   ]
  },
  {
   "cell_type": "code",
   "execution_count": null,
   "metadata": {},
   "outputs": [],
   "source": [
    "SS_t1 = SumOfSquares(penguins_rm[penguins_rm[\"time\"] == \"t1\"][\"Culmen Length (mm)\"])\n",
    "SS_t2 = SumOfSquares(penguins_rm[penguins_rm[\"time\"] == \"t2\"][\"Culmen Length (mm)\"])\n",
    "SS_t3 = SumOfSquares(penguins_rm[penguins_rm[\"time\"] == \"t3\"][\"Culmen Length (mm)\"])\n",
    "\n",
    "SS_within = SS_t1 + SS_t2 + SS_t3\n",
    "SS_within"
   ]
  },
  {
   "cell_type": "markdown",
   "metadata": {},
   "source": [
    "Dieser Wert kommt uns erstmal gar nicht bekannt vor aus der Tabelle oben. Aber wenn wir kurz an die Formel von oben denken ist das gar nicht so verwunderlich. Schließlich ist für die ANOVA mit Messwiederholungen nicht mehr die $Variablität_{within}$ sondern des Fehlers entscheidend:\n",
    "\n",
    "\n",
    "$$ F = \\frac{Signal}{Noise} = \\frac{Explained\\:variance}{Unexplained\\:variance} = \\frac{Between\\:group\\:variability}{Error} $$\n",
    "\n",
    "Die ersten uns bekannt vorkommenden Werte sollten wir also beim Ausrechnen der $SS_{between}$ erkennen.\n",
    "\n",
    "### $SS_{between}$\n",
    "\n",
    "Die $SS_{between}$ errechnen wir wieder entweder indem wir die $SS_{within}$ von der $SS_{gesamt}$ abziehen oder indem wir eine SS mit den Gruppenmittelwerten, die um den Gesamtmittelwert variieren ausrechnen. Zuerst prüfen wir die erste Version, um zu gucken, ob die Werte in der Tabelle oben vorkommen:"
   ]
  },
  {
   "cell_type": "code",
   "execution_count": null,
   "metadata": {},
   "outputs": [],
   "source": [
    "SS_between1 = SS_gesamt - SS_within\n",
    "print(\n",
    "    f\"SS_between aus der rm ANOVA-Tabelle: {rm_anova_results['SS']['time']:.3f}\\n\"\n",
    "    f\"SS_between errechnet: {SS_between1:.3f}\"\n",
    ")"
   ]
  },
  {
   "cell_type": "markdown",
   "metadata": {},
   "source": [
    "Vielleicht werdet ihr an diesem Punkt etwas stutzig. War time in dem Code zur Berechnung der ANOVA nicht der within factor?\n",
    "```\n",
    "rm_anova_results = pg.rm_anova(\n",
    "    data=penguins_rm,\n",
    "    dv=\"Culmen Length (mm)\",\n",
    "    within=\"time\",\n",
    "    subject=\"id\",\n",
    "    detailed=True,\n",
    ")\n",
    "```\n",
    "Das ist vollkommen richtig! Bei dem within factor geht es um den Faktor den alle Individuuen ausgesetzt werden, z.B. Messungen über die Zeit, bei der die Individuen gleich bleiben oder Cross-Over Designs wo die dieselben Individuuen verschiedene Interventionen bekommen. Bei der $SS_{between}$ geht es um die Variation zwischen den Gruppen. Wir befinden uns also auf einer unterschiedlichen Ebene. Solche Wiederverwendung von Begrifflichkeiten kommen leider häufiger in der Statistik vor und können oft zu Verwirrung führen.\n",
    "\n",
    "\n",
    "Q: Kannst du die zweite Variante selbstständig errechnen? Falls du Hilfe brauchst kannst du nochmal in **03_ANOVA_Hintergründe** gucken."
   ]
  },
  {
   "cell_type": "code",
   "execution_count": null,
   "metadata": {},
   "outputs": [],
   "source": []
  },
  {
   "cell_type": "code",
   "execution_count": null,
   "metadata": {},
   "outputs": [],
   "source": [
    "# Lösung\n",
    "group_means = penguins_rm.groupby(\"time\").mean()[\"Culmen Length (mm)\"]\n",
    "group_n = penguins_rm.groupby(\"time\").count()[\"Culmen Length (mm)\"]\n",
    "SS_between = np.sum( group_n * (group_means - M_gesamt) ** 2)\n",
    "SS_between"
   ]
  },
  {
   "cell_type": "markdown",
   "metadata": {},
   "source": [
    "### $SS_{subj*}$\n",
    "\n",
    "Jetzt müssen wir nur noch herausfinden, welchen Anteil der $SS_{within}$ durch die $SS_{subj*}$ erklärt wird, da wir die Within Varianz weiter aufteilen in Fehler und Variation, die dadurch erklärt wird, dass wir Individuen mehrfach messen.\n",
    "\n",
    "Hierfür nutzen wir eine Ähnliche Logik wie bei den $SS_{between}$. Erinnert euch an die Formel für die $SS_{between}$:\n",
    "\n",
    "$$SS_{between} = \\sum n_i(M_i - M_{gesamt})^2$$\n",
    "\n",
    "Jetzt ersetzen wir den Gruppenmittelwert $M_i$ durch den Mittelwert der einzelnen Individuen über die verschiedenen Messzeitpunkte und $n_i$, die Anzahl der Personen in den Gruppen, durch die Messzeitpunkte $k$:\n",
    "\n",
    "$$SS_{subj*} = \\sum k(M_{subj*} - M_{gesamt})^2$$\n",
    "\n",
    "Q: Kannst du den Code für die $SS_{between}$ so anpassen, dass die $SS_{subj*}$ berechnet wird?"
   ]
  },
  {
   "cell_type": "code",
   "execution_count": null,
   "metadata": {},
   "outputs": [],
   "source": []
  },
  {
   "cell_type": "code",
   "execution_count": null,
   "metadata": {},
   "outputs": [],
   "source": [
    "# Lösung\n",
    "subj_means = penguins_rm.groupby(\"id\").mean()[\"Culmen Length (mm)\"]\n",
    "k = penguins_rm[\"time\"].nunique()\n",
    "SS_subj = np.sum( k * (subj_means - M_gesamt) ** 2)\n",
    "SS_subj"
   ]
  },
  {
   "cell_type": "markdown",
   "metadata": {},
   "source": [
    "### $SS_{Error}$\n",
    "\n",
    "Da $SS_{within} = SS_{subj*} + SS_{Error}$ können wir jetzt $SS_{Error}$ ausrechnen."
   ]
  },
  {
   "cell_type": "code",
   "execution_count": null,
   "metadata": {},
   "outputs": [],
   "source": [
    "SS_error = SS_within - SS_subj\n",
    "\n",
    "print(\n",
    "    f\"SS_error aus der rm ANOVA-Tabelle: {rm_anova_results['SS']['Error']:.3f}\\n\"\n",
    "    f\"SS_error errechnet: {SS_error:.3f}\"\n",
    ")"
   ]
  },
  {
   "cell_type": "markdown",
   "metadata": {},
   "source": [
    "## Freiheitsgrade und MSs\n",
    "\n",
    "Wie bei der ANOVA ohne Messwiederholungen bleibt jetzt übrig die Freiheitsgrade zu errechnen, um damit die MSs zu errechnen. Die Logik ist auch weiterhin eine ähnliche. \n",
    "\n",
    "1. Freiheitsgrade für die gesamte ANOVA wird ausgerechnet, indem wir die Anzahl an Messwerten (N) -1 nehmen.\n",
    "2. Freiheitsgrade für $SS_{between}$ indem wir die Anzahl Gruppen -1 nehmen.\n",
    "3. Freiheitsgrade für $SS_{within}$ indem wir die Summe der Gruppengröße je -1 nehmen für jede Gruppe, was der $Anzahl\\:an\\:Messwerten\\:(N) - Anzahl\\:an\\:Gruppen\\:(k)$"
   ]
  },
  {
   "cell_type": "code",
   "execution_count": null,
   "metadata": {},
   "outputs": [],
   "source": [
    "N = len(penguins_rm)\n",
    "df_gesamt = N - 1\n",
    "\n",
    "k = penguins_rm[\"time\"].nunique()\n",
    "df_between = k - 1\n",
    "df_within = N - k \n",
    "\n",
    "print(\n",
    "    f\"df_between aus der rm ANOVA-Tabelle: {rm_anova_results['DF']['time']}\\n\"\n",
    "    f\"df_between errechnet: {df_between}\")"
   ]
  },
  {
   "cell_type": "markdown",
   "metadata": {},
   "source": [
    "Neu ist die Berechnung der $df_{subj}$, die Logik bleibt aber eine ähnliche. Anzahl - 1. Hier die Anzah an gemessenen Individuen. Also:\n",
    "\n",
    "$$df_{subj} = N_{subj} - 1  "
   ]
  },
  {
   "cell_type": "code",
   "execution_count": null,
   "metadata": {},
   "outputs": [],
   "source": [
    "\n",
    "N_subj = penguins_rm[\"id\"].nunique()\n",
    "df_subj = N_subj - 1"
   ]
  },
  {
   "cell_type": "markdown",
   "metadata": {},
   "source": [
    "Hieraus können wir dann wie bei den SS die $df_{error}$ errechnen, denn auch hier gilt $df_{within} = df_{subj} + df_{error}$"
   ]
  },
  {
   "cell_type": "code",
   "execution_count": null,
   "metadata": {},
   "outputs": [],
   "source": [
    "df_error = df_within - df_subj\n",
    "\n",
    "print(\n",
    "    f\"df_error aus der rm ANOVA-Tabelle: {rm_anova_results['DF']['Error']}\\n\"\n",
    "    f\"df_error errechnet: {df_error}\")"
   ]
  },
  {
   "cell_type": "markdown",
   "metadata": {},
   "source": [
    "Wie bei den SS finden wir in der Tabelle nur die $df_{between}$ und die $df_{error}$ wieder, da diese die entscheidenden sind, um den F-Wert zu berechnen. Die MS lassen sich dann errechnen ($MS = \\frac{SS}{df}$)"
   ]
  },
  {
   "cell_type": "code",
   "execution_count": null,
   "metadata": {},
   "outputs": [],
   "source": [
    "MS_gesamt = SS_gesamt / df_gesamt\n",
    "MS_between = SS_between / df_between\n",
    "MS_within = SS_within / df_within\n",
    "MS_subj = SS_subj / df_subj\n",
    "MS_error = SS_error / df_error\n",
    "\n",
    "print(\n",
    "    f\"MS_between aus der rm ANOVA-Tabelle: {rm_anova_results['MS']['time']:.3f}\\n\"\n",
    "    f\"MS_between errechnet: {MS_between:.3f}\\n\"\n",
    "    f\"MS_error aus der rm ANOVA-Tabelle: {rm_anova_results['MS']['Error']:.3f}\\n\"\n",
    "    f\"MS_error errechnet: {MS_error:.3f}\")"
   ]
  },
  {
   "cell_type": "markdown",
   "metadata": {},
   "source": [
    "## F-Wert\n",
    "\n",
    "Der F-Wert wird anschließend aus der MS des interessiereden Effects und dem MS des Fehlers errechnet. Die allgemeine Formel ist also:\n",
    "\n",
    "$$F = \\frac{MS_{effect}}{MS_{error}}$$\n",
    "\n",
    "Wir wollen sehen, ob das Schnabelwachstum über die Zeit größer ist als die unerklärte Varianz. Das heißt wir setzten $MS_{between}$ und $MS_{error}$ ein.\n",
    "\n"
   ]
  },
  {
   "cell_type": "code",
   "execution_count": null,
   "metadata": {},
   "outputs": [],
   "source": [
    "F = MS_between / MS_error\n",
    "\n",
    "print(\n",
    "    f\"F-Wert aus der rm ANOVA Tabelle: {rm_anova_results['F']['time']:.3f}\\n\"\n",
    "    f\"F-Wert errechnet: {F:.3f}\"\n",
    ")"
   ]
  },
  {
   "cell_type": "markdown",
   "metadata": {},
   "source": [
    "Auch hier kann man wieder mit den F-Werten und den Freiheitsgraden den p-Wert aus der F-Verteilung ablesen.\n",
    "\n",
    "Mithilfe eines Scipy Moduls können wir uns das allerdings ausgeben lassen."
   ]
  },
  {
   "cell_type": "code",
   "execution_count": null,
   "metadata": {},
   "outputs": [],
   "source": [
    "from scipy.stats import f\n",
    "\n",
    "p_value = f.sf(F, df_between, df_error)\n",
    "print(\n",
    "    f\"Errechneter P-Wert: {p_value}\\n\"\n",
    "    f\"P-Wert aus der Tabelle: {rm_anova_results['p-unc']['time']}\"\n",
    ")"
   ]
  },
  {
   "cell_type": "markdown",
   "metadata": {},
   "source": [
    "## (Partielles) $\\eta^2$\n",
    "\n",
    "Zuletzt noch die Effektstärke. Die ändert sich im Vergleich zu vorher ein wenig, da das partielle Eta Quadrat nun einen anderen Wert produziert als das Eta Quadrat.\n",
    "$$\\eta^2 = \\frac{SS_{effect}}{SS_{gesamt}}$$\n",
    "\n",
    "$$partielles\\:\\eta^2 = \\frac{SS_{effect}}{SS_{effect} + SS_{error}}$$"
   ]
  },
  {
   "cell_type": "code",
   "execution_count": 102,
   "metadata": {},
   "outputs": [
    {
     "name": "stdout",
     "output_type": "stream",
     "text": [
      "Partilles Eta Quadrat aus der ANOVA-Tabelle: 0.814\n",
      "Partielles Eta Quadrat errechnet: 0.814\n"
     ]
    }
   ],
   "source": [
    "np2 = SS_between / (SS_between + SS_error)\n",
    "\n",
    "print(f\"Partilles Eta Quadrat aus der ANOVA-Tabelle: {rm_anova_results['np2']['time']:.3f}\\n\"\n",
    "      f\"Partielles Eta Quadrat errechnet: {np2:.3f}\")"
   ]
  },
  {
   "cell_type": "markdown",
   "metadata": {},
   "source": []
  }
 ],
 "metadata": {
  "interpreter": {
   "hash": "4982c5c0bdc004da750e333977e80a64d2d36d313a72e477560f2ed7fc553481"
  },
  "kernelspec": {
   "display_name": "Python 3.9.12 ('base')",
   "language": "python",
   "name": "python3"
  },
  "language_info": {
   "codemirror_mode": {
    "name": "ipython",
    "version": 3
   },
   "file_extension": ".py",
   "mimetype": "text/x-python",
   "name": "python",
   "nbconvert_exporter": "python",
   "pygments_lexer": "ipython3",
   "version": "3.9.12"
  },
  "orig_nbformat": 4
 },
 "nbformat": 4,
 "nbformat_minor": 2
}
