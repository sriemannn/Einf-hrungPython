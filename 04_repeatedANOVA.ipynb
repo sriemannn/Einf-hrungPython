{
 "cells": [
  {
   "cell_type": "markdown",
   "metadata": {},
   "source": [
    "# ANOVA mit Messwiederholungen\n",
    "\n",
    "In dem letzten Teil haben wir uns ANOVAs angesehen, die sich mit einem Faktor (\"Culmen Length (mm)\") zwischen verschiedenen Individuuen beschäftigt. Also einem sogenannten between subjects factor. Die Variation zwischen den Gruppen also der between factor war der für uns interessante Effekt. Was ist aber, wenn wir wiederholt dieselbe Person messen, dann können wir nicht ohne weiteres dieselbe Logik anwenden, da wir die Variiation innerhalb der Gruppen, den within subjects factor, einfach als Fehler angesehen haben? Das wir das beim letzten Mal einfach so gemacht haben, verdeutlicht die Formel für den F-Wert.\n",
    "\n",
    "\n",
    "$$ F = \\frac{Signal}{Noise} = \\frac{Explained\\:variance}{Unexplained\\:variance} = \\frac{Between\\:group\\:variability}{Within\\:group\\:variability} $$\n",
    "\n",
    "Wenn wir allerdings Messwiederholungen haben, sind in jeder Gruppe dieselben Individuuen und allein dadurch lässt sich einiges der Variablität innerhalb der Gruppen erklären. Wir teilen also die Within group Varianz im Nenner weiter auf. \n",
    "\n",
    "$$Within\\:group\\:variability = Subject\\:variability + Error$$\n",
    "\n",
    "Da die durch die einzelnen Subjects erklärte Variabliltät (und es sich ja um erklärte Varianz handelt) nichts zur Frage beiträgt, ob über die Zeit/verschiedene Interventionen zu unterschiedlichen Werten führt, wird die Formel für den F-Wert angepasst für die ANOVA mit Messwiederholungen.\n",
    "\n",
    "$$ F = \\frac{Signal}{Noise} = \\frac{Explained\\:variance}{Unexplained\\:variance} = \\frac{Between\\:group\\:variability}{Error} $$"
   ]
  },
  {
   "cell_type": "markdown",
   "metadata": {},
   "source": [
    "Unser Pinugindatensatz enthält allerdings keine Messwiederholungen, wie wir sehen, wenn wir ihn uns nochmal ansehen"
   ]
  },
  {
   "cell_type": "code",
   "execution_count": 2,
   "metadata": {},
   "outputs": [
    {
     "data": {
      "text/html": [
       "<div>\n",
       "<style scoped>\n",
       "    .dataframe tbody tr th:only-of-type {\n",
       "        vertical-align: middle;\n",
       "    }\n",
       "\n",
       "    .dataframe tbody tr th {\n",
       "        vertical-align: top;\n",
       "    }\n",
       "\n",
       "    .dataframe thead th {\n",
       "        text-align: right;\n",
       "    }\n",
       "</style>\n",
       "<table border=\"1\" class=\"dataframe\">\n",
       "  <thead>\n",
       "    <tr style=\"text-align: right;\">\n",
       "      <th></th>\n",
       "      <th>Culmen Length (mm)</th>\n",
       "      <th>Culmen Depth (mm)</th>\n",
       "      <th>Species</th>\n",
       "    </tr>\n",
       "  </thead>\n",
       "  <tbody>\n",
       "    <tr>\n",
       "      <th>0</th>\n",
       "      <td>39.1</td>\n",
       "      <td>18.7</td>\n",
       "      <td>Adelie</td>\n",
       "    </tr>\n",
       "    <tr>\n",
       "      <th>1</th>\n",
       "      <td>39.5</td>\n",
       "      <td>17.4</td>\n",
       "      <td>Adelie</td>\n",
       "    </tr>\n",
       "    <tr>\n",
       "      <th>2</th>\n",
       "      <td>40.3</td>\n",
       "      <td>18.0</td>\n",
       "      <td>Adelie</td>\n",
       "    </tr>\n",
       "    <tr>\n",
       "      <th>3</th>\n",
       "      <td>36.7</td>\n",
       "      <td>19.3</td>\n",
       "      <td>Adelie</td>\n",
       "    </tr>\n",
       "    <tr>\n",
       "      <th>4</th>\n",
       "      <td>39.3</td>\n",
       "      <td>20.6</td>\n",
       "      <td>Adelie</td>\n",
       "    </tr>\n",
       "  </tbody>\n",
       "</table>\n",
       "</div>"
      ],
      "text/plain": [
       "   Culmen Length (mm)  Culmen Depth (mm) Species\n",
       "0                39.1               18.7  Adelie\n",
       "1                39.5               17.4  Adelie\n",
       "2                40.3               18.0  Adelie\n",
       "3                36.7               19.3  Adelie\n",
       "4                39.3               20.6  Adelie"
      ]
     },
     "execution_count": 2,
     "metadata": {},
     "output_type": "execute_result"
    }
   ],
   "source": [
    "import pandas as pd\n",
    "\n",
    "penguins = pd.read_csv(\"./penguins_classification.csv\")\n",
    "\n",
    "penguins.head()"
   ]
  },
  {
   "cell_type": "markdown",
   "metadata": {},
   "source": [
    "In der nächsten Zelle passiert ziemlich viel Code, der nur dazu da ist unseren zweiten und dritten Zeitpunkt zu generieren und unseren Dataframe für eine repeated ANOVA vorzubereiten. Hierfür müssen wir verschiedene Dinge beachten. Eine repeated ANOVA braucht zum Beispiel einen Identifier, um zu wissen, welcher Wert zu welchem Individuum gehört (in unseren Simulierten Daten ändert sich die \"Culmen Depth (mm)\" nicht über die Zeit und die Species der Pinguine bleibt auch konstant, daher ist der Code für diese beiden parameter sehr ähnlich wie für die Identifier). Außerdem brauchen wir eine Variable (z.B. \"time\"), die den Messzeitpunkt kodiert und außerdem die Variable \"Culmen Length (mm)\", die sich über unsere drei Messzeitpunkte verändern soll. Dafür füge ich zu dem ursprünglichen Wert aus unseren Daten einen zufällig generierten Wert hinzu, um Schnabelwachstum zu simulieren. \n",
    "\n",
    "Ihr müsst nicht 100% verstehen, was in dieser Zelle passiert. Am allerwichtigsten sind die letzten zwei Zeile. Auch hier passiert ziemlich viel, wenn man sie Stück für Stück durchgeht wird es aber alles klar.\n",
    "\n",
    "1. Wir entfernen die Spalten \"Species\" und \"id\" aus unserem neu erstellten DataFrame penguins_rm. \n",
    "2. Wir Gruppieren die Werte von \"Culmen Length (mm)\" und \"Culmen Depth (mm)\" nach der Zeit und lassen uns für beides den Mittelwert und die Standardabweichung ausgeben. Das ist quasi eine Weitere Methode um solche Übersichten wie mit `.describe` zu erstellen. Das könnte man auch statt `.agg([\"mean\", \"std\"])` anhängen. Die vielen Outputs von `.describe` sind mir hier allerdings zu unübersichtlich "
   ]
  },
  {
   "cell_type": "code",
   "execution_count": 3,
   "metadata": {},
   "outputs": [
    {
     "data": {
      "text/html": [
       "<div>\n",
       "<style scoped>\n",
       "    .dataframe tbody tr th:only-of-type {\n",
       "        vertical-align: middle;\n",
       "    }\n",
       "\n",
       "    .dataframe tbody tr th {\n",
       "        vertical-align: top;\n",
       "    }\n",
       "\n",
       "    .dataframe thead tr th {\n",
       "        text-align: left;\n",
       "    }\n",
       "\n",
       "    .dataframe thead tr:last-of-type th {\n",
       "        text-align: right;\n",
       "    }\n",
       "</style>\n",
       "<table border=\"1\" class=\"dataframe\">\n",
       "  <thead>\n",
       "    <tr>\n",
       "      <th></th>\n",
       "      <th colspan=\"2\" halign=\"left\">Culmen Length (mm)</th>\n",
       "      <th colspan=\"2\" halign=\"left\">Culmen Depth (mm)</th>\n",
       "    </tr>\n",
       "    <tr>\n",
       "      <th></th>\n",
       "      <th>mean</th>\n",
       "      <th>std</th>\n",
       "      <th>mean</th>\n",
       "      <th>std</th>\n",
       "    </tr>\n",
       "    <tr>\n",
       "      <th>time</th>\n",
       "      <th></th>\n",
       "      <th></th>\n",
       "      <th></th>\n",
       "      <th></th>\n",
       "    </tr>\n",
       "  </thead>\n",
       "  <tbody>\n",
       "    <tr>\n",
       "      <th>t1</th>\n",
       "      <td>43.921930</td>\n",
       "      <td>5.459584</td>\n",
       "      <td>17.15117</td>\n",
       "      <td>1.974793</td>\n",
       "    </tr>\n",
       "    <tr>\n",
       "      <th>t2</th>\n",
       "      <td>44.437457</td>\n",
       "      <td>5.473761</td>\n",
       "      <td>17.15117</td>\n",
       "      <td>1.974793</td>\n",
       "    </tr>\n",
       "    <tr>\n",
       "      <th>t3</th>\n",
       "      <td>44.902907</td>\n",
       "      <td>5.473130</td>\n",
       "      <td>17.15117</td>\n",
       "      <td>1.974793</td>\n",
       "    </tr>\n",
       "  </tbody>\n",
       "</table>\n",
       "</div>"
      ],
      "text/plain": [
       "     Culmen Length (mm)           Culmen Depth (mm)          \n",
       "                   mean       std              mean       std\n",
       "time                                                         \n",
       "t1            43.921930  5.459584          17.15117  1.974793\n",
       "t2            44.437457  5.473761          17.15117  1.974793\n",
       "t3            44.902907  5.473130          17.15117  1.974793"
      ]
     },
     "execution_count": 3,
     "metadata": {},
     "output_type": "execute_result"
    }
   ],
   "source": [
    "## generate t2 and t3\n",
    "\n",
    "import numpy as np\n",
    "# np.random.rand generiert einen zufälligen Vektor mit den in den Klammern angegebenen Dimensionen\n",
    "penguins_rm = pd.DataFrame({\n",
    "    \"id\": np.resize(np.arange(0, len(penguins)), 3*len(penguins)), # Id erstellen und dreimal wiederholen, da wir drei Messzeitpunkte haben\n",
    "    \"time\": [\"t1\"] * len(penguins) + [\"t2\"] * len(penguins) + [\"t3\"] * len(penguins), # \n",
    "    \"Culmen Length (mm)\": pd.concat([\n",
    "        penguins[\"Culmen Length (mm)\"],\n",
    "        penguins[\"Culmen Length (mm)\"] + np.random.rand(len(penguins)),\n",
    "        penguins[\"Culmen Length (mm)\"] + 0.5 + np.random.rand(len(penguins))\n",
    "        ]),\n",
    "    \"Culmen Depth (mm)\": np.resize(penguins[\"Culmen Depth (mm)\"], 3*len(penguins)),\n",
    "    \"Species\": np.resize(penguins[\"Species\"], 3*len(penguins))\n",
    "})\n",
    "\n",
    "penguins_rm_numerical = penguins_rm.drop(columns=[\"Species\", \"id\"])\n",
    "penguins_rm_numerical.groupby([\"time\"]).agg([\"mean\", \"std\"])"
   ]
  },
  {
   "cell_type": "markdown",
   "metadata": {},
   "source": [
    "Mit dem Datensatz können wir nun eine ANOVA mit Messwiederholungen rechnen. Die Documentation gibt uns wieder einen Hinweis, was die einzelnen Arguments bedeuten."
   ]
  },
  {
   "cell_type": "code",
   "execution_count": 4,
   "metadata": {},
   "outputs": [
    {
     "name": "stdout",
     "output_type": "stream",
     "text": [
      "\u001b[0;31mSignature:\u001b[0m\n",
      "\u001b[0mpg\u001b[0m\u001b[0;34m.\u001b[0m\u001b[0mrm_anova\u001b[0m\u001b[0;34m(\u001b[0m\u001b[0;34m\u001b[0m\n",
      "\u001b[0;34m\u001b[0m    \u001b[0mdata\u001b[0m\u001b[0;34m=\u001b[0m\u001b[0;32mNone\u001b[0m\u001b[0;34m,\u001b[0m\u001b[0;34m\u001b[0m\n",
      "\u001b[0;34m\u001b[0m    \u001b[0mdv\u001b[0m\u001b[0;34m=\u001b[0m\u001b[0;32mNone\u001b[0m\u001b[0;34m,\u001b[0m\u001b[0;34m\u001b[0m\n",
      "\u001b[0;34m\u001b[0m    \u001b[0mwithin\u001b[0m\u001b[0;34m=\u001b[0m\u001b[0;32mNone\u001b[0m\u001b[0;34m,\u001b[0m\u001b[0;34m\u001b[0m\n",
      "\u001b[0;34m\u001b[0m    \u001b[0msubject\u001b[0m\u001b[0;34m=\u001b[0m\u001b[0;32mNone\u001b[0m\u001b[0;34m,\u001b[0m\u001b[0;34m\u001b[0m\n",
      "\u001b[0;34m\u001b[0m    \u001b[0mcorrection\u001b[0m\u001b[0;34m=\u001b[0m\u001b[0;34m'auto'\u001b[0m\u001b[0;34m,\u001b[0m\u001b[0;34m\u001b[0m\n",
      "\u001b[0;34m\u001b[0m    \u001b[0mdetailed\u001b[0m\u001b[0;34m=\u001b[0m\u001b[0;32mFalse\u001b[0m\u001b[0;34m,\u001b[0m\u001b[0;34m\u001b[0m\n",
      "\u001b[0;34m\u001b[0m    \u001b[0meffsize\u001b[0m\u001b[0;34m=\u001b[0m\u001b[0;34m'np2'\u001b[0m\u001b[0;34m,\u001b[0m\u001b[0;34m\u001b[0m\n",
      "\u001b[0;34m\u001b[0m\u001b[0;34m)\u001b[0m\u001b[0;34m\u001b[0m\u001b[0;34m\u001b[0m\u001b[0m\n",
      "\u001b[0;31mDocstring:\u001b[0m\n",
      "One-way and two-way repeated measures ANOVA.\n",
      "\n",
      "Parameters\n",
      "----------\n",
      "data : :py:class:`pandas.DataFrame`\n",
      "    DataFrame. Note that this function can also directly be used as a\n",
      "    :py:class:`pandas.DataFrame` method, in which case this argument is no\n",
      "    longer needed.\n",
      "    Both wide and long-format dataframe are supported for one-way repeated\n",
      "    measures ANOVA. However, ``data`` must be in long format for two-way\n",
      "    repeated measures.\n",
      "dv : string\n",
      "    Name of column containing the dependent variable (only required if\n",
      "    ``data`` is in long format).\n",
      "within : string\n",
      "    Name of column containing the within factor (only required if ``data``\n",
      "    is in long format).\n",
      "    If ``within`` is a single string, then compute a one-way repeated\n",
      "    measures ANOVA, if ``within`` is a list with two strings,\n",
      "    compute a two-way repeated measures ANOVA.\n",
      "subject : string\n",
      "    Name of column containing the subject identifier (only required if\n",
      "    ``data`` is in long format).\n",
      "correction : string or boolean\n",
      "    If True, also return the Greenhouse-Geisser corrected p-value.\n",
      "\n",
      "    The default for one-way design is to compute Mauchly's test of\n",
      "    sphericity to determine whether the p-values needs to be corrected\n",
      "    (see :py:func:`pingouin.sphericity`).\n",
      "\n",
      "    The default for two-way design is to return both the uncorrected and\n",
      "    Greenhouse-Geisser corrected p-values. Note that sphericity test for\n",
      "    two-way design are not currently implemented in Pingouin.\n",
      "detailed : boolean\n",
      "    If True, return a full ANOVA table.\n",
      "effsize : str\n",
      "    Effect size. Must be one of 'np2' (partial eta-squared), 'n2'\n",
      "    (eta-squared) or 'ng2'(generalized eta-squared). Note that for\n",
      "    one-way repeated measure ANOVA partial eta-squared is the\n",
      "    same as eta-squared.\n",
      "\n",
      "Returns\n",
      "-------\n",
      "aov : :py:class:`pandas.DataFrame`\n",
      "    ANOVA summary:\n",
      "\n",
      "    * ``'Source'``: Name of the within-group factor\n",
      "    * ``'ddof1'``: Degrees of freedom (numerator)\n",
      "    * ``'ddof2'``: Degrees of freedom (denominator)\n",
      "    * ``'F'``: F-value\n",
      "    * ``'p-unc'``: Uncorrected p-value\n",
      "    * ``'np2'``: Partial eta-square effect size\n",
      "    * ``'eps'``: Greenhouse-Geisser epsilon factor (= index of sphericity)\n",
      "    * ``'p-GG-corr'``: Greenhouse-Geisser corrected p-value\n",
      "    * ``'W-spher'``: Sphericity test statistic\n",
      "    * ``'p-spher'``: p-value of the sphericity test\n",
      "    * ``'sphericity'``: sphericity of the data (boolean)\n",
      "\n",
      "See Also\n",
      "--------\n",
      "anova : One-way and N-way ANOVA\n",
      "mixed_anova : Two way mixed ANOVA\n",
      "friedman : Non-parametric one-way repeated measures ANOVA\n",
      "\n",
      "Notes\n",
      "-----\n",
      "Data can be in wide or long format for one-way repeated measures ANOVA but\n",
      "*must* be in long format for two-way repeated measures ANOVA.\n",
      "\n",
      "In one-way repeated-measures ANOVA, the total variance (sums of squares)\n",
      "is divided into three components\n",
      "\n",
      ".. math::\n",
      "    SS_{\\text{total}} = SS_{\\text{effect}} +\n",
      "    (SS_{\\text{subjects}} + SS_{\\text{error}})\n",
      "\n",
      "with\n",
      "\n",
      ".. math::\n",
      "    SS_{\\text{total}} = \\sum_i^r \\sum_j^n (Y_{ij} - \\overline{Y})^2\n",
      "\n",
      "    SS_{\\text{effect}} = \\sum_i^r n_i(\\overline{Y_i} - \\overline{Y})^2\n",
      "\n",
      "    SS_{\\text{subjects}} = r\\sum (\\overline{Y}_s - \\overline{Y})^2\n",
      "\n",
      "    SS_{\\text{error}} = SS_{\\text{total}} - SS_{\\text{effect}} -\n",
      "    SS_{\\text{subjects}}\n",
      "\n",
      "\n",
      "where :math:`i=1,...,r; j=1,...,n_i`, :math:`r` is the number of\n",
      "conditions, :math:`n_i` the number of observations for each condition,\n",
      ":math:`\\overline{Y}` the grand mean of the data, :math:`\\overline{Y_i}`\n",
      "the mean of the :math:`i^{th}` condition and :math:`\\overline{Y}_{subj}`\n",
      "the mean of the :math:`s^{th}` subject.\n",
      "\n",
      "The F-statistics is then defined as:\n",
      "\n",
      ".. math::\n",
      "\n",
      "    F^* = \\frac{MS_{\\text{effect}}}{MS_{\\text{error}}} =\n",
      "    \\frac{\\frac{SS_{\\text{effect}}}\n",
      "    {r-1}}{\\frac{SS_{\\text{error}}}{(n - 1)(r - 1)}}\n",
      "\n",
      "and the p-value can be calculated using a F-distribution with\n",
      ":math:`v_{\\text{effect}} = r - 1` and\n",
      ":math:`v_{\\text{error}} = (n - 1)(r - 1)` degrees of freedom.\n",
      "\n",
      "The default effect size reported in Pingouin is the partial eta-squared,\n",
      "which is equivalent to eta-square for one-way repeated measures ANOVA.\n",
      "\n",
      ".. math::\n",
      "    \\eta_p^2 = \\frac{SS_{\\text{effect}}}{SS_{\\text{effect}} +\n",
      "    SS_{\\text{error}}}\n",
      "\n",
      "Missing values are automatically removed using a strict listwise approach (= complete-case\n",
      "analysis). In other words, any subject with one or more missing value(s) is completely removed\n",
      "from the dataframe prior to running the test. This could drastically decrease the power of the\n",
      "ANOVA if many missing values are present. In that case, we strongly recommend using linear\n",
      "mixed effect modelling, which can handle missing values in repeated measures.\n",
      "\n",
      ".. warning:: The epsilon adjustement factor of the interaction in\n",
      "    two-way repeated measures ANOVA where both factors have more than\n",
      "    two levels slightly differs than from R and JASP.\n",
      "    Please always make sure to double-check your results with another\n",
      "    software.\n",
      "\n",
      ".. warning:: Sphericity tests for the interaction term of a two-way\n",
      "    repeated measures ANOVA are not currently supported in Pingouin.\n",
      "    Instead, please refer to the Greenhouse-Geisser epsilon value\n",
      "    (a value close to 1 indicates that sphericity is met.) For more\n",
      "    details, see :py:func:`pingouin.sphericity`.\n",
      "\n",
      "Examples\n",
      "--------\n",
      "1. One-way repeated measures ANOVA using a wide-format dataset\n",
      "\n",
      ">>> import pingouin as pg\n",
      ">>> data = pg.read_dataset('rm_anova_wide')\n",
      ">>> pg.rm_anova(data)\n",
      "   Source  ddof1  ddof2         F     p-unc       np2       eps\n",
      "0  Within      3     24  5.200652  0.006557  0.393969  0.694329\n",
      "\n",
      "2. One-way repeated-measures ANOVA using a long-format dataset.\n",
      "\n",
      "We're also specifying two additional options here: ``detailed=True`` means\n",
      "that we'll get a more detailed ANOVA table, and ``effsize='ng2'``\n",
      "means that we want to get the generalized eta-squared effect size instead\n",
      "of the default partial eta-squared.\n",
      "\n",
      ">>> df = pg.read_dataset('rm_anova')\n",
      ">>> aov = pg.rm_anova(dv='DesireToKill', within='Disgustingness',\n",
      "...                   subject='Subject', data=df, detailed=True,\n",
      "...                   effsize=\"ng2\")\n",
      ">>> aov.round(3)\n",
      "           Source       SS  DF      MS       F  p-unc    ng2  eps\n",
      "0  Disgustingness   27.485   1  27.485  12.044  0.001  0.026  1.0\n",
      "1           Error  209.952  92   2.282     NaN    NaN    NaN  NaN\n",
      "\n",
      "3. Two-way repeated-measures ANOVA\n",
      "\n",
      ">>> aov = pg.rm_anova(dv='DesireToKill',\n",
      "...                   within=['Disgustingness', 'Frighteningness'],\n",
      "...                   subject='Subject', data=df)\n",
      "\n",
      "4. As a :py:class:`pandas.DataFrame` method\n",
      "\n",
      ">>> df.rm_anova(dv='DesireToKill', within='Disgustingness',\n",
      "...             subject='Subject',  detailed=False)\n",
      "           Source  ddof1  ddof2          F     p-unc       np2  eps\n",
      "0  Disgustingness      1     92  12.043878  0.000793  0.115758  1.0\n",
      "\u001b[0;31mFile:\u001b[0m      ~/miniconda3/lib/python3.9/site-packages/pingouin/parametric.py\n",
      "\u001b[0;31mType:\u001b[0m      function\n"
     ]
    }
   ],
   "source": [
    "import pingouin as pg\n",
    "\n",
    "?pg.rm_anova"
   ]
  },
  {
   "cell_type": "code",
   "execution_count": 20,
   "metadata": {},
   "outputs": [
    {
     "data": {
      "text/html": [
       "<div>\n",
       "<style scoped>\n",
       "    .dataframe tbody tr th:only-of-type {\n",
       "        vertical-align: middle;\n",
       "    }\n",
       "\n",
       "    .dataframe tbody tr th {\n",
       "        vertical-align: top;\n",
       "    }\n",
       "\n",
       "    .dataframe thead th {\n",
       "        text-align: right;\n",
       "    }\n",
       "</style>\n",
       "<table border=\"1\" class=\"dataframe\">\n",
       "  <thead>\n",
       "    <tr style=\"text-align: right;\">\n",
       "      <th></th>\n",
       "      <th>SS</th>\n",
       "      <th>DF</th>\n",
       "      <th>MS</th>\n",
       "      <th>F</th>\n",
       "      <th>p-unc</th>\n",
       "      <th>p-GG-corr</th>\n",
       "      <th>np2</th>\n",
       "      <th>eps</th>\n",
       "      <th>sphericity</th>\n",
       "      <th>W-spher</th>\n",
       "      <th>p-spher</th>\n",
       "    </tr>\n",
       "    <tr>\n",
       "      <th>Source</th>\n",
       "      <th></th>\n",
       "      <th></th>\n",
       "      <th></th>\n",
       "      <th></th>\n",
       "      <th></th>\n",
       "      <th></th>\n",
       "      <th></th>\n",
       "      <th></th>\n",
       "      <th></th>\n",
       "      <th></th>\n",
       "      <th></th>\n",
       "    </tr>\n",
       "  </thead>\n",
       "  <tbody>\n",
       "    <tr>\n",
       "      <th>time</th>\n",
       "      <td>164.699</td>\n",
       "      <td>2</td>\n",
       "      <td>82.349</td>\n",
       "      <td>1525.582</td>\n",
       "      <td>0.0</td>\n",
       "      <td>0.0</td>\n",
       "      <td>0.817</td>\n",
       "      <td>0.831</td>\n",
       "      <td>False</td>\n",
       "      <td>0.797</td>\n",
       "      <td>0.0</td>\n",
       "    </tr>\n",
       "    <tr>\n",
       "      <th>Error</th>\n",
       "      <td>36.814</td>\n",
       "      <td>682</td>\n",
       "      <td>0.054</td>\n",
       "      <td>NaN</td>\n",
       "      <td>NaN</td>\n",
       "      <td>NaN</td>\n",
       "      <td>NaN</td>\n",
       "      <td>NaN</td>\n",
       "      <td>NaN</td>\n",
       "      <td>NaN</td>\n",
       "      <td>NaN</td>\n",
       "    </tr>\n",
       "  </tbody>\n",
       "</table>\n",
       "</div>"
      ],
      "text/plain": [
       "             SS   DF      MS         F  p-unc  p-GG-corr    np2    eps  \\\n",
       "Source                                                                   \n",
       "time    164.699    2  82.349  1525.582    0.0        0.0  0.817  0.831   \n",
       "Error    36.814  682   0.054       NaN    NaN        NaN    NaN    NaN   \n",
       "\n",
       "       sphericity  W-spher  p-spher  \n",
       "Source                               \n",
       "time        False    0.797      0.0  \n",
       "Error         NaN      NaN      NaN  "
      ]
     },
     "execution_count": 20,
     "metadata": {},
     "output_type": "execute_result"
    }
   ],
   "source": [
    "rm_anova_results = pg.rm_anova(\n",
    "    data=penguins_rm,\n",
    "    dv=\"Culmen Length (mm)\",\n",
    "    within=\"time\",\n",
    "    subject=\"id\",\n",
    "    detailed=True,\n",
    ")\n",
    "\n",
    "rm_anova_results = rm_anova_results.set_index(\"Source\")\n",
    "rm_anova_results.round(3) # .round(3) rundet die ANOVA-Ergebnisse auf drei Nachkommastellen"
   ]
  },
  {
   "cell_type": "markdown",
   "metadata": {},
   "source": [
    "## Sums of Square\n",
    "\n",
    "Hier können wir am einfachsten auch wieder die $SS_{gesamt}$ ausrechnen. Also die gesamte in unserer Stichprobe vorhandene Variablität. Allerdings lässt sich das errechnete Ergebnis nicht mehr so einfach auf seine Richtigkeit prüfen, indem wir alles SS aus der Tabelle des ANOVA Outputs zusammenrechnen. Das liegt vor allem daran, dass die $SS_{within}$ bei einer ANOVA mit Messwiederholungen weiter aufgeteilt werden, da in jeder Gruppe dieselben Individuen sind. \n",
    "\n",
    "Q: Kannst du die $SS_{gesamt}$ errechnen? "
   ]
  },
  {
   "cell_type": "code",
   "execution_count": null,
   "metadata": {},
   "outputs": [],
   "source": []
  },
  {
   "cell_type": "code",
   "execution_count": 6,
   "metadata": {},
   "outputs": [
    {
     "data": {
      "text/plain": [
       "30760.672672769462"
      ]
     },
     "execution_count": 6,
     "metadata": {},
     "output_type": "execute_result"
    }
   ],
   "source": [
    "# Lösung\n",
    "x = penguins_rm[\"Culmen Length (mm)\"]\n",
    "M_gesamt = np.mean(x)\n",
    "\n",
    "SS_gesamt = np.sum( (x - M_gesamt) ** 2)\n",
    "SS_gesamt"
   ]
  },
  {
   "cell_type": "markdown",
   "metadata": {},
   "source": [
    "### $SS_{within}$\n",
    "\n",
    "Die Berechnung der SS within ist analog zur ANOVA ohne Messwiederholungen. Wir nehmen unseren drei Gruppen berechnen für jede innerhalb jeder Gruppe die Summe des quadrierten Mittelwerts und summieren diese wieder auf."
   ]
  },
  {
   "cell_type": "code",
   "execution_count": 7,
   "metadata": {},
   "outputs": [],
   "source": [
    "def SumOfSquares(input_list):\n",
    "    \"\"\"\n",
    "    input_list - Liste mit Daten für die, die Sum of Squares berechnet werden soll.\n",
    "    \"\"\"\n",
    "    x = input_list.to_numpy() # .to_numpy macht aus dem Pandas Dataframe/Series etwas womit numpy gut rechnen kann\n",
    "    Mx = np.mean(x)\n",
    "    \n",
    "    return np.sum((x - Mx) ** 2)"
   ]
  },
  {
   "cell_type": "code",
   "execution_count": 8,
   "metadata": {},
   "outputs": [
    {
     "data": {
      "text/plain": [
       "30595.97370767512"
      ]
     },
     "execution_count": 8,
     "metadata": {},
     "output_type": "execute_result"
    }
   ],
   "source": [
    "SS_t1 = SumOfSquares(penguins_rm[penguins_rm[\"time\"] == \"t1\"][\"Culmen Length (mm)\"])\n",
    "SS_t2 = SumOfSquares(penguins_rm[penguins_rm[\"time\"] == \"t2\"][\"Culmen Length (mm)\"])\n",
    "SS_t3 = SumOfSquares(penguins_rm[penguins_rm[\"time\"] == \"t3\"][\"Culmen Length (mm)\"])\n",
    "\n",
    "SS_within = SS_t1 + SS_t2 + SS_t3\n",
    "SS_within"
   ]
  },
  {
   "cell_type": "markdown",
   "metadata": {},
   "source": [
    "Dieser Wert kommt uns erstmal gar nicht bekannt vor aus der Tabelle oben. Aber wenn wir kurz an die Formel von oben denken ist das gar nicht so verwunderlich. Schließlich ist für die ANOVA mit Messwiederholungen nicht mehr die $Variablität_{within}$ sondern des Fehlers entscheidend:\n",
    "\n",
    "\n",
    "$$ F = \\frac{Signal}{Noise} = \\frac{Explained\\:variance}{Unexplained\\:variance} = \\frac{Between\\:group\\:variability}{Error} $$\n",
    "\n",
    "Die ersten uns bekannt vorkommenden Werte sollten wir also beim Ausrechnen der $SS_{between}$ erkennen.\n",
    "\n",
    "### $SS_{between}$\n",
    "\n",
    "Die $SS_{between}$ errechnen wir wieder entweder indem wir die $SS_{within}$ von der $SS_{gesamt}$ abziehen oder indem wir eine SS mit den Gruppenmittelwerten, die um den Gesamtmittelwert variieren ausrechnen. Zuerst prüfen wir die erste Version, um zu gucken, ob die Werte in der Tabelle oben vorkommen:"
   ]
  },
  {
   "cell_type": "code",
   "execution_count": 9,
   "metadata": {},
   "outputs": [
    {
     "name": "stdout",
     "output_type": "stream",
     "text": [
      "SS_between aus der rm ANOVA-Tabelle: 164.699\n",
      "SS_between errechnet: 164.699\n"
     ]
    }
   ],
   "source": [
    "SS_between1 = SS_gesamt - SS_within\n",
    "print(\n",
    "    f\"SS_between aus der rm ANOVA-Tabelle: {rm_anova_results['SS']['time']:.3f}\\n\"\n",
    "    f\"SS_between errechnet: {SS_between1:.3f}\"\n",
    ")"
   ]
  },
  {
   "cell_type": "markdown",
   "metadata": {},
   "source": [
    "Vielleicht werdet ihr an diesem Punkt etwas stutzig. War time in dem Code zur Berechnung der ANOVA nicht der within factor?\n",
    "```\n",
    "rm_anova_results = pg.rm_anova(\n",
    "    data=penguins_rm,\n",
    "    dv=\"Culmen Length (mm)\",\n",
    "    within=\"time\",\n",
    "    subject=\"id\",\n",
    "    detailed=True,\n",
    ")\n",
    "```\n",
    "Das ist vollkommen richtig! Bei dem within factor geht es um den Faktor den alle Individuuen ausgesetzt werden, z.B. Messungen über die Zeit, bei der die Individuen gleich bleiben oder Cross-Over Designs wo die dieselben Individuuen verschiedene Interventionen bekommen. Bei der $SS_{between}$ geht es um die Variation zwischen den Gruppen. Wir befinden uns also auf einer unterschiedlichen Ebene. Solche Wiederverwendung von Begrifflichkeiten kommen leider häufiger in der Statistik vor und können oft zu Verwirrung führen.\n",
    "\n",
    "\n",
    "Q: Kannst du die zweite Variante selbstständig errechnen? Falls du Hilfe brauchst kannst du nochmal in **03_ANOVA_Hintergründe** gucken."
   ]
  },
  {
   "cell_type": "code",
   "execution_count": null,
   "metadata": {},
   "outputs": [],
   "source": []
  },
  {
   "cell_type": "code",
   "execution_count": 10,
   "metadata": {},
   "outputs": [
    {
     "data": {
      "text/plain": [
       "164.69896509434153"
      ]
     },
     "execution_count": 10,
     "metadata": {},
     "output_type": "execute_result"
    }
   ],
   "source": [
    "# Lösung\n",
    "group_means = penguins_rm.groupby(\"time\").mean()[\"Culmen Length (mm)\"]\n",
    "group_n = penguins_rm.groupby(\"time\").count()[\"Culmen Length (mm)\"]\n",
    "SS_between = np.sum( group_n * (group_means - M_gesamt) ** 2)\n",
    "SS_between"
   ]
  },
  {
   "cell_type": "markdown",
   "metadata": {},
   "source": [
    "### $SS_{subj*}$\n",
    "\n",
    "Jetzt müssen wir nur noch herausfinden, welchen Anteil der $SS_{within}$ durch die $SS_{subj*}$ erklärt wird, da wir die Within Varianz weiter aufteilen in Fehler und Variation, die dadurch erklärt wird, dass wir Individuen mehrfach messen.\n",
    "\n",
    "Hierfür nutzen wir eine Ähnliche Logik wie bei den $SS_{between}$. Erinnert euch an die Formel für die $SS_{between}$:\n",
    "\n",
    "$$SS_{between} = \\sum n_i(M_i - M_{gesamt})^2$$\n",
    "\n",
    "Jetzt ersetzen wir den Gruppenmittelwert $M_i$ durch den Mittelwert der einzelnen Individuen über die verschiedenen Messzeitpunkte und $n_i$, die Anzahl der Personen in den Gruppen, durch die Messzeitpunkte $k$:\n",
    "\n",
    "$$SS_{subj*} = \\sum k(M_{subj*} - M_{gesamt})^2$$\n",
    "\n",
    "Q: Kannst du den Code für die $SS_{between}$ so anpassen, dass die $SS_{subj*}$ berechnet wird?"
   ]
  },
  {
   "cell_type": "code",
   "execution_count": null,
   "metadata": {},
   "outputs": [],
   "source": []
  },
  {
   "cell_type": "code",
   "execution_count": 11,
   "metadata": {},
   "outputs": [
    {
     "data": {
      "text/plain": [
       "30559.159976877367"
      ]
     },
     "execution_count": 11,
     "metadata": {},
     "output_type": "execute_result"
    }
   ],
   "source": [
    "# Lösung\n",
    "subj_means = penguins_rm.groupby(\"id\").mean()[\"Culmen Length (mm)\"]\n",
    "k = penguins_rm[\"time\"].nunique()\n",
    "SS_subj = np.sum( k * (subj_means - M_gesamt) ** 2)\n",
    "SS_subj"
   ]
  },
  {
   "cell_type": "markdown",
   "metadata": {},
   "source": [
    "### $SS_{Error}$\n",
    "\n",
    "Da $SS_{within} = SS_{subj*} + SS_{Error}$ können wir jetzt $SS_{Error}$ ausrechnen."
   ]
  },
  {
   "cell_type": "code",
   "execution_count": 12,
   "metadata": {},
   "outputs": [
    {
     "name": "stdout",
     "output_type": "stream",
     "text": [
      "SS_error aus der rm ANOVA-Tabelle: 36.814\n",
      "SS_error errechnet: 36.814\n"
     ]
    }
   ],
   "source": [
    "SS_error = SS_within - SS_subj\n",
    "\n",
    "print(\n",
    "    f\"SS_error aus der rm ANOVA-Tabelle: {rm_anova_results['SS']['Error']:.3f}\\n\"\n",
    "    f\"SS_error errechnet: {SS_error:.3f}\"\n",
    ")"
   ]
  },
  {
   "cell_type": "markdown",
   "metadata": {},
   "source": [
    "## Freiheitsgrade und MSs\n",
    "\n",
    "Wie bei der ANOVA ohne Messwiederholungen bleibt jetzt übrig die Freiheitsgrade zu errechnen, um damit die MSs zu errechnen. Die Logik ist auch weiterhin eine ähnliche. \n",
    "\n",
    "1. Freiheitsgrade für die gesamte ANOVA wird ausgerechnet, indem wir die Anzahl an Messwerten (N) -1 nehmen.\n",
    "2. Freiheitsgrade für $SS_{between}$ indem wir die Anzahl Gruppen -1 nehmen.\n",
    "3. Freiheitsgrade für $SS_{within}$ indem wir die Summe der Gruppengröße je -1 nehmen für jede Gruppe, was der $Anzahl\\:an\\:Messwerten\\:(N) - Anzahl\\:an\\:Gruppen\\:(k)$"
   ]
  },
  {
   "cell_type": "code",
   "execution_count": 13,
   "metadata": {},
   "outputs": [
    {
     "name": "stdout",
     "output_type": "stream",
     "text": [
      "df_between aus der rm ANOVA-Tabelle: 2\n",
      "df_between errechnet: 2\n"
     ]
    }
   ],
   "source": [
    "N = len(penguins_rm)\n",
    "df_gesamt = N - 1\n",
    "\n",
    "k = penguins_rm[\"time\"].nunique()\n",
    "df_between = k - 1\n",
    "df_within = N - k \n",
    "\n",
    "print(\n",
    "    f\"df_between aus der rm ANOVA-Tabelle: {rm_anova_results['DF']['time']}\\n\"\n",
    "    f\"df_between errechnet: {df_between}\")"
   ]
  },
  {
   "cell_type": "markdown",
   "metadata": {},
   "source": [
    "Neu ist die Berechnung der $df_{subj}$, die Logik bleibt aber eine ähnliche. Anzahl - 1. Hier die Anzah an gemessenen Individuen. Also:\n",
    "\n",
    "$$df_{subj} = N_{subj} - 1  "
   ]
  },
  {
   "cell_type": "code",
   "execution_count": 14,
   "metadata": {},
   "outputs": [],
   "source": [
    "\n",
    "N_subj = penguins_rm[\"id\"].nunique()\n",
    "df_subj = N_subj - 1"
   ]
  },
  {
   "cell_type": "markdown",
   "metadata": {},
   "source": [
    "Hieraus können wir dann wie bei den SS die $df_{error}$ errechnen, denn auch hier gilt $df_{within} = df_{subj} + df_{error}$"
   ]
  },
  {
   "cell_type": "code",
   "execution_count": 15,
   "metadata": {},
   "outputs": [
    {
     "name": "stdout",
     "output_type": "stream",
     "text": [
      "df_error aus der rm ANOVA-Tabelle: 682\n",
      "df_error errechnet: 682\n"
     ]
    }
   ],
   "source": [
    "df_error = df_within - df_subj\n",
    "\n",
    "print(\n",
    "    f\"df_error aus der rm ANOVA-Tabelle: {rm_anova_results['DF']['Error']}\\n\"\n",
    "    f\"df_error errechnet: {df_error}\")"
   ]
  },
  {
   "cell_type": "markdown",
   "metadata": {},
   "source": [
    "Wie bei den SS finden wir in der Tabelle nur die $df_{between}$ und die $df_{error}$ wieder, da diese die entscheidenden sind, um den F-Wert zu berechnen. Die MS lassen sich dann errechnen ($MS = \\frac{SS}{df}$)"
   ]
  },
  {
   "cell_type": "code",
   "execution_count": 16,
   "metadata": {},
   "outputs": [
    {
     "name": "stdout",
     "output_type": "stream",
     "text": [
      "MS_between aus der rm ANOVA-Tabelle: 82.349\n",
      "MS_between errechnet: 82.349\n",
      "MS_error aus der rm ANOVA-Tabelle: 0.054\n",
      "MS_error errechnet: 0.054\n"
     ]
    }
   ],
   "source": [
    "MS_gesamt = SS_gesamt / df_gesamt\n",
    "MS_between = SS_between / df_between\n",
    "MS_within = SS_within / df_within\n",
    "MS_subj = SS_subj / df_subj\n",
    "MS_error = SS_error / df_error\n",
    "\n",
    "print(\n",
    "    f\"MS_between aus der rm ANOVA-Tabelle: {rm_anova_results['MS']['time']:.3f}\\n\"\n",
    "    f\"MS_between errechnet: {MS_between:.3f}\\n\"\n",
    "    f\"MS_error aus der rm ANOVA-Tabelle: {rm_anova_results['MS']['Error']:.3f}\\n\"\n",
    "    f\"MS_error errechnet: {MS_error:.3f}\")"
   ]
  },
  {
   "cell_type": "markdown",
   "metadata": {},
   "source": [
    "## F-Wert\n",
    "\n",
    "Der F-Wert wird anschließend aus der MS des interessiereden Effects und dem MS des Fehlers errechnet. Die allgemeine Formel ist also:\n",
    "\n",
    "$$F = \\frac{MS_{effect}}{MS_{error}}$$\n",
    "\n",
    "Wir wollen sehen, ob das Schnabelwachstum über die Zeit größer ist als die unerklärte Varianz. Das heißt wir setzten $MS_{between}$ und $MS_{error}$ ein.\n",
    "\n"
   ]
  },
  {
   "cell_type": "code",
   "execution_count": 17,
   "metadata": {},
   "outputs": [
    {
     "name": "stdout",
     "output_type": "stream",
     "text": [
      "F-Wert aus der rm ANOVA Tabelle: 1525.582\n",
      "F-Wert errechnet: 1525.582\n"
     ]
    }
   ],
   "source": [
    "F = MS_between / MS_error\n",
    "\n",
    "print(\n",
    "    f\"F-Wert aus der rm ANOVA Tabelle: {rm_anova_results['F']['time']:.3f}\\n\"\n",
    "    f\"F-Wert errechnet: {F:.3f}\"\n",
    ")"
   ]
  },
  {
   "cell_type": "markdown",
   "metadata": {},
   "source": [
    "Auch hier kann man wieder mit den F-Werten und den Freiheitsgraden den p-Wert aus der F-Verteilung ablesen.\n",
    "\n",
    "Mithilfe eines Scipy Moduls können wir uns das allerdings ausgeben lassen."
   ]
  },
  {
   "cell_type": "code",
   "execution_count": 28,
   "metadata": {},
   "outputs": [
    {
     "name": "stdout",
     "output_type": "stream",
     "text": [
      "Errechneter P-Wert: 1.7467465220618475e-252\n",
      "P-Wert aus der Tabelle: 1.7467465220618475e-252\n"
     ]
    }
   ],
   "source": [
    "from scipy.stats import f\n",
    "\n",
    "p_value = f.sf(F, df_between, df_error)\n",
    "print(\n",
    "    f\"Errechneter P-Wert: {p_value}\\n\"\n",
    "    f\"P-Wert aus der Tabelle: {rm_anova_results['p-unc']['time']}\"\n",
    ")"
   ]
  },
  {
   "cell_type": "markdown",
   "metadata": {},
   "source": [
    "## (Partielles) $\\eta^2$\n",
    "\n",
    "Zuletzt noch die Effektstärke. Hier ändert sich nichts im Vergleich zu den Beispielen vorher, da wir weiterhin nur eine unabhängige Variable haben. Trotzdem hier nochmal beide Formeln.\n",
    "\n",
    "$$\\eta^2 = \\frac{SS_{effect}}{SS_{gesamt}}$$\n",
    "\n",
    "und \n",
    "\n",
    "$$partielles\\:\\eta^2 = \\frac{SS_{effect}}{SS_{effect} + SS_{within}}$$\n",
    "\n",
    "Da wir nur eine unabhängige Variable haben, entspricht unsere $SS_{effect}$ immer unserer $SS_{between}$. Ihr könnt euch aber vielleicht vorstellen, dass die beiden Formeln unterschiedliche Werte produzieren, wenn man mehrere Effekte hat."
   ]
  }
 ],
 "metadata": {
  "interpreter": {
   "hash": "4982c5c0bdc004da750e333977e80a64d2d36d313a72e477560f2ed7fc553481"
  },
  "kernelspec": {
   "display_name": "Python 3.9.12 ('base')",
   "language": "python",
   "name": "python3"
  },
  "language_info": {
   "codemirror_mode": {
    "name": "ipython",
    "version": 3
   },
   "file_extension": ".py",
   "mimetype": "text/x-python",
   "name": "python",
   "nbconvert_exporter": "python",
   "pygments_lexer": "ipython3",
   "version": "3.9.12"
  },
  "orig_nbformat": 4
 },
 "nbformat": 4,
 "nbformat_minor": 2
}
