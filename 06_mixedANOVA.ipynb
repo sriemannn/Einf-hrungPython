{
 "cells": [
  {
   "cell_type": "markdown",
   "metadata": {},
   "source": [
    "# Mixed ANOVA\n",
    "\n",
    "Wir haben uns jetzt Schritt für Schritt die Fälle einer ANOVA mit einem einzelnen Faktor angesehen. In euren Arbeiten sind aber häufig mehrere Faktoren nötig. Außerdem werden sowohl between als auch within Faktoren benötigt. Daher sehen wir uns jetzt diesen Fall an. Hierfür laden wir auch erstmal den Pinguin Datensatz und fügen unsere zweiten und dritten Messzeitpunkte hinzu."
   ]
  },
  {
   "cell_type": "code",
   "execution_count": 3,
   "metadata": {},
   "outputs": [
    {
     "data": {
      "text/html": [
       "<div>\n",
       "<style scoped>\n",
       "    .dataframe tbody tr th:only-of-type {\n",
       "        vertical-align: middle;\n",
       "    }\n",
       "\n",
       "    .dataframe tbody tr th {\n",
       "        vertical-align: top;\n",
       "    }\n",
       "\n",
       "    .dataframe thead th {\n",
       "        text-align: right;\n",
       "    }\n",
       "</style>\n",
       "<table border=\"1\" class=\"dataframe\">\n",
       "  <thead>\n",
       "    <tr style=\"text-align: right;\">\n",
       "      <th></th>\n",
       "      <th>Culmen Length (mm)</th>\n",
       "      <th>Culmen Depth (mm)</th>\n",
       "      <th>Species</th>\n",
       "    </tr>\n",
       "  </thead>\n",
       "  <tbody>\n",
       "    <tr>\n",
       "      <th>0</th>\n",
       "      <td>39.1</td>\n",
       "      <td>18.7</td>\n",
       "      <td>Adelie</td>\n",
       "    </tr>\n",
       "    <tr>\n",
       "      <th>1</th>\n",
       "      <td>39.5</td>\n",
       "      <td>17.4</td>\n",
       "      <td>Adelie</td>\n",
       "    </tr>\n",
       "    <tr>\n",
       "      <th>2</th>\n",
       "      <td>40.3</td>\n",
       "      <td>18.0</td>\n",
       "      <td>Adelie</td>\n",
       "    </tr>\n",
       "    <tr>\n",
       "      <th>3</th>\n",
       "      <td>36.7</td>\n",
       "      <td>19.3</td>\n",
       "      <td>Adelie</td>\n",
       "    </tr>\n",
       "    <tr>\n",
       "      <th>4</th>\n",
       "      <td>39.3</td>\n",
       "      <td>20.6</td>\n",
       "      <td>Adelie</td>\n",
       "    </tr>\n",
       "  </tbody>\n",
       "</table>\n",
       "</div>"
      ],
      "text/plain": [
       "   Culmen Length (mm)  Culmen Depth (mm) Species\n",
       "0                39.1               18.7  Adelie\n",
       "1                39.5               17.4  Adelie\n",
       "2                40.3               18.0  Adelie\n",
       "3                36.7               19.3  Adelie\n",
       "4                39.3               20.6  Adelie"
      ]
     },
     "execution_count": 3,
     "metadata": {},
     "output_type": "execute_result"
    }
   ],
   "source": [
    "import pandas as pd\n",
    "\n",
    "penguins = pd.read_csv(\"./penguins_classification.csv\")\n",
    "\n",
    "penguins.head()"
   ]
  },
  {
   "cell_type": "code",
   "execution_count": 4,
   "metadata": {},
   "outputs": [
    {
     "data": {
      "text/html": [
       "<div>\n",
       "<style scoped>\n",
       "    .dataframe tbody tr th:only-of-type {\n",
       "        vertical-align: middle;\n",
       "    }\n",
       "\n",
       "    .dataframe tbody tr th {\n",
       "        vertical-align: top;\n",
       "    }\n",
       "\n",
       "    .dataframe thead tr th {\n",
       "        text-align: left;\n",
       "    }\n",
       "\n",
       "    .dataframe thead tr:last-of-type th {\n",
       "        text-align: right;\n",
       "    }\n",
       "</style>\n",
       "<table border=\"1\" class=\"dataframe\">\n",
       "  <thead>\n",
       "    <tr>\n",
       "      <th></th>\n",
       "      <th></th>\n",
       "      <th colspan=\"2\" halign=\"left\">Culmen Length (mm)</th>\n",
       "      <th colspan=\"2\" halign=\"left\">Culmen Depth (mm)</th>\n",
       "    </tr>\n",
       "    <tr>\n",
       "      <th></th>\n",
       "      <th></th>\n",
       "      <th>mean</th>\n",
       "      <th>std</th>\n",
       "      <th>mean</th>\n",
       "      <th>std</th>\n",
       "    </tr>\n",
       "    <tr>\n",
       "      <th>Species</th>\n",
       "      <th>time</th>\n",
       "      <th></th>\n",
       "      <th></th>\n",
       "      <th></th>\n",
       "      <th></th>\n",
       "    </tr>\n",
       "  </thead>\n",
       "  <tbody>\n",
       "    <tr>\n",
       "      <th rowspan=\"3\" valign=\"top\">Adelie</th>\n",
       "      <th>t1</th>\n",
       "      <td>38.791391</td>\n",
       "      <td>2.663405</td>\n",
       "      <td>18.346358</td>\n",
       "      <td>1.216650</td>\n",
       "    </tr>\n",
       "    <tr>\n",
       "      <th>t2</th>\n",
       "      <td>39.306395</td>\n",
       "      <td>2.682953</td>\n",
       "      <td>19.710511</td>\n",
       "      <td>1.529459</td>\n",
       "    </tr>\n",
       "    <tr>\n",
       "      <th>t3</th>\n",
       "      <td>39.796739</td>\n",
       "      <td>2.652286</td>\n",
       "      <td>22.402870</td>\n",
       "      <td>2.376191</td>\n",
       "    </tr>\n",
       "    <tr>\n",
       "      <th rowspan=\"3\" valign=\"top\">Chinstrap</th>\n",
       "      <th>t1</th>\n",
       "      <td>48.833824</td>\n",
       "      <td>3.339256</td>\n",
       "      <td>18.420588</td>\n",
       "      <td>1.135395</td>\n",
       "    </tr>\n",
       "    <tr>\n",
       "      <th>t2</th>\n",
       "      <td>49.329867</td>\n",
       "      <td>3.327058</td>\n",
       "      <td>19.668432</td>\n",
       "      <td>1.379190</td>\n",
       "    </tr>\n",
       "    <tr>\n",
       "      <th>t3</th>\n",
       "      <td>49.875526</td>\n",
       "      <td>3.342314</td>\n",
       "      <td>22.286353</td>\n",
       "      <td>2.639263</td>\n",
       "    </tr>\n",
       "    <tr>\n",
       "      <th rowspan=\"3\" valign=\"top\">Gentoo</th>\n",
       "      <th>t1</th>\n",
       "      <td>47.504878</td>\n",
       "      <td>3.081857</td>\n",
       "      <td>14.982114</td>\n",
       "      <td>0.981220</td>\n",
       "    </tr>\n",
       "    <tr>\n",
       "      <th>t2</th>\n",
       "      <td>47.984348</td>\n",
       "      <td>3.100881</td>\n",
       "      <td>16.404182</td>\n",
       "      <td>1.168002</td>\n",
       "    </tr>\n",
       "    <tr>\n",
       "      <th>t3</th>\n",
       "      <td>50.138105</td>\n",
       "      <td>3.084260</td>\n",
       "      <td>18.900750</td>\n",
       "      <td>2.400177</td>\n",
       "    </tr>\n",
       "  </tbody>\n",
       "</table>\n",
       "</div>"
      ],
      "text/plain": [
       "               Culmen Length (mm)           Culmen Depth (mm)          \n",
       "                             mean       std              mean       std\n",
       "Species   time                                                         \n",
       "Adelie    t1            38.791391  2.663405         18.346358  1.216650\n",
       "          t2            39.306395  2.682953         19.710511  1.529459\n",
       "          t3            39.796739  2.652286         22.402870  2.376191\n",
       "Chinstrap t1            48.833824  3.339256         18.420588  1.135395\n",
       "          t2            49.329867  3.327058         19.668432  1.379190\n",
       "          t3            49.875526  3.342314         22.286353  2.639263\n",
       "Gentoo    t1            47.504878  3.081857         14.982114  0.981220\n",
       "          t2            47.984348  3.100881         16.404182  1.168002\n",
       "          t3            50.138105  3.084260         18.900750  2.400177"
      ]
     },
     "execution_count": 4,
     "metadata": {},
     "output_type": "execute_result"
    }
   ],
   "source": [
    "## generate t2 and t3\n",
    "\n",
    "import numpy as np\n",
    "# np.random.rand generiert einen zufälligen Vektor mit den in den Klammern angegebenen Dimensionen\n",
    "penguins_rm = pd.DataFrame({\n",
    "    \"id\": np.resize(np.arange(0, len(penguins)), 3*len(penguins)), # Id erstellen und dreimal wiederholen, da wir drei Messzeitpunkte haben\n",
    "    \"time\": [\"t1\"] * len(penguins) + [\"t2\"] * len(penguins) + [\"t3\"] * len(penguins), # \n",
    "    \"Culmen Length (mm)\": pd.concat([\n",
    "        penguins[\"Culmen Length (mm)\"],\n",
    "        penguins[\"Culmen Length (mm)\"] + np.random.rand(len(penguins)),\n",
    "        penguins[\"Culmen Length (mm)\"] + 0.5 + np.random.rand(len(penguins))\n",
    "        ]),\n",
    "    \"Culmen Depth (mm)\": pd.concat([\n",
    "        penguins[\"Culmen Depth (mm)\"],\n",
    "        penguins[\"Culmen Depth (mm)\"] + 2.63 * np.random.rand(len(penguins)),\n",
    "        penguins[\"Culmen Depth (mm)\"] + 7.94 * np.random.rand(len(penguins))\n",
    "        ]),\n",
    "    \"Species\": np.resize(penguins[\"Species\"], 3*len(penguins))\n",
    "})\n",
    "\n",
    "# Addiere einen random Wert zu Gentoo zu t3, um einen Interaktionseffekt zu kreieren.\n",
    "penguins_rm.loc[(penguins_rm[\"Species\"] == \"Gentoo\") & (penguins_rm[\"time\"] == \"t3\"), \"Culmen Length (mm)\"] += 2 * np.random.rand(1)\n",
    "\n",
    "penguins_rm.groupby([\"Species\", \"time\"]).agg([\"mean\", \"std\"]).drop(columns=[\"id\"])"
   ]
  },
  {
   "cell_type": "markdown",
   "metadata": {},
   "source": [
    "Wir sehen schon mal an der Tabelle, dass das ganze etwas aufwendiger wird, wenn wir mehrere Faktoren abbilden wollen. Trotzdem lässt sich mit `groupby` und `agg` einfach eine Tabelle erstellen. Die Liste an Tabellen Spalten für `groupby` wird nacheinander umgesetzt, genauso wie die Liste für `agg`. Die Durchführung der `mixed_anova` können wir uns zuerst einmal wieder in der Dokumentation von `pingouin` ansehen."
   ]
  },
  {
   "cell_type": "code",
   "execution_count": 5,
   "metadata": {},
   "outputs": [
    {
     "name": "stdout",
     "output_type": "stream",
     "text": [
      "\u001b[0;31mSignature:\u001b[0m\n",
      "\u001b[0mpg\u001b[0m\u001b[0;34m.\u001b[0m\u001b[0mmixed_anova\u001b[0m\u001b[0;34m(\u001b[0m\u001b[0;34m\u001b[0m\n",
      "\u001b[0;34m\u001b[0m    \u001b[0mdata\u001b[0m\u001b[0;34m=\u001b[0m\u001b[0;32mNone\u001b[0m\u001b[0;34m,\u001b[0m\u001b[0;34m\u001b[0m\n",
      "\u001b[0;34m\u001b[0m    \u001b[0mdv\u001b[0m\u001b[0;34m=\u001b[0m\u001b[0;32mNone\u001b[0m\u001b[0;34m,\u001b[0m\u001b[0;34m\u001b[0m\n",
      "\u001b[0;34m\u001b[0m    \u001b[0mwithin\u001b[0m\u001b[0;34m=\u001b[0m\u001b[0;32mNone\u001b[0m\u001b[0;34m,\u001b[0m\u001b[0;34m\u001b[0m\n",
      "\u001b[0;34m\u001b[0m    \u001b[0msubject\u001b[0m\u001b[0;34m=\u001b[0m\u001b[0;32mNone\u001b[0m\u001b[0;34m,\u001b[0m\u001b[0;34m\u001b[0m\n",
      "\u001b[0;34m\u001b[0m    \u001b[0mbetween\u001b[0m\u001b[0;34m=\u001b[0m\u001b[0;32mNone\u001b[0m\u001b[0;34m,\u001b[0m\u001b[0;34m\u001b[0m\n",
      "\u001b[0;34m\u001b[0m    \u001b[0mcorrection\u001b[0m\u001b[0;34m=\u001b[0m\u001b[0;34m'auto'\u001b[0m\u001b[0;34m,\u001b[0m\u001b[0;34m\u001b[0m\n",
      "\u001b[0;34m\u001b[0m    \u001b[0meffsize\u001b[0m\u001b[0;34m=\u001b[0m\u001b[0;34m'np2'\u001b[0m\u001b[0;34m,\u001b[0m\u001b[0;34m\u001b[0m\n",
      "\u001b[0;34m\u001b[0m\u001b[0;34m)\u001b[0m\u001b[0;34m\u001b[0m\u001b[0;34m\u001b[0m\u001b[0m\n",
      "\u001b[0;31mDocstring:\u001b[0m\n",
      "Mixed-design (split-plot) ANOVA.\n",
      "\n",
      "Parameters\n",
      "----------\n",
      "data : :py:class:`pandas.DataFrame`\n",
      "    DataFrame. Note that this function can also directly be used as a\n",
      "    Pandas method, in which case this argument is no longer needed.\n",
      "dv : string\n",
      "    Name of column containing the dependent variable.\n",
      "within : string\n",
      "    Name of column containing the within-subject factor\n",
      "    (repeated measurements).\n",
      "subject : string\n",
      "    Name of column containing the between-subject identifier.\n",
      "between : string\n",
      "    Name of column containing the between factor.\n",
      "correction : string or boolean\n",
      "    If True, return Greenhouse-Geisser corrected p-value.\n",
      "    If `'auto'` (default), compute Mauchly's test of sphericity to\n",
      "    determine whether the p-values needs to be corrected.\n",
      "effsize : str\n",
      "    Effect size. Must be one of 'np2' (partial eta-squared), 'n2'\n",
      "    (eta-squared) or 'ng2'(generalized eta-squared).\n",
      "\n",
      "Returns\n",
      "-------\n",
      "aov : :py:class:`pandas.DataFrame`\n",
      "    ANOVA summary:\n",
      "\n",
      "    * ``'Source'``: Names of the factor considered\n",
      "    * ``'ddof1'``: Degrees of freedom (numerator)\n",
      "    * ``'ddof2'``: Degrees of freedom (denominator)\n",
      "    * ``'F'``: F-values\n",
      "    * ``'p-unc'``: Uncorrected p-values\n",
      "    * ``'np2'``: Partial eta-squared effect sizes\n",
      "    * ``'eps'``: Greenhouse-Geisser epsilon factor (= index of sphericity)\n",
      "    * ``'p-GG-corr'``: Greenhouse-Geisser corrected p-values\n",
      "    * ``'W-spher'``: Sphericity test statistic\n",
      "    * ``'p-spher'``: p-value of the sphericity test\n",
      "    * ``'sphericity'``: sphericity of the data (boolean)\n",
      "\n",
      "See Also\n",
      "--------\n",
      "anova, rm_anova, pairwise_tests\n",
      "\n",
      "Notes\n",
      "-----\n",
      "Data are expected to be in long-format (even the repeated measures).\n",
      "If your data is in wide-format, you can use the :py:func:`pandas.melt()`\n",
      "function to convert from wide to long format.\n",
      "\n",
      "Missing values are automatically removed using a strict listwise approach (= complete-case\n",
      "analysis). In other words, any subject with one or more missing value(s) is completely removed\n",
      "from the dataframe prior to running the test. This could drastically decrease the power of the\n",
      "ANOVA if many missing values are present. In that case, we strongly recommend using linear\n",
      "mixed effect modelling, which can handle missing values in repeated measures.\n",
      "\n",
      ".. warning :: If the between-subject groups are unbalanced (= unequal sample sizes),\n",
      "    a type II ANOVA will be computed. Note however that SPSS, JAMOVI and JASP by default\n",
      "    return a type III ANOVA, which may lead to slightly different results.\n",
      "\n",
      "Examples\n",
      "--------\n",
      "For more examples, please refer to the `Jupyter notebooks\n",
      "<https://github.com/raphaelvallat/pingouin/blob/master/notebooks/01_ANOVA.ipynb>`_\n",
      "\n",
      "Compute a two-way mixed model ANOVA.\n",
      "\n",
      ">>> from pingouin import mixed_anova, read_dataset\n",
      ">>> df = read_dataset('mixed_anova')\n",
      ">>> aov = mixed_anova(dv='Scores', between='Group',\n",
      "...                   within='Time', subject='Subject', data=df)\n",
      ">>> aov.round(3)\n",
      "        Source     SS  DF1  DF2     MS      F  p-unc    np2    eps\n",
      "0        Group  5.460    1   58  5.460  5.052  0.028  0.080    NaN\n",
      "1         Time  7.628    2  116  3.814  4.027  0.020  0.065  0.999\n",
      "2  Interaction  5.167    2  116  2.584  2.728  0.070  0.045    NaN\n",
      "\n",
      "Same but reporting a generalized eta-squared effect size. Notice how we\n",
      "can also apply this function directly as a method of the dataframe, in\n",
      "which case we do not need to specify ``data=df`` anymore.\n",
      "\n",
      ">>> df.mixed_anova(dv='Scores', between='Group', within='Time',\n",
      "...                subject='Subject', effsize=\"ng2\").round(3)\n",
      "        Source     SS  DF1  DF2     MS      F  p-unc    ng2    eps\n",
      "0        Group  5.460    1   58  5.460  5.052  0.028  0.031    NaN\n",
      "1         Time  7.628    2  116  3.814  4.027  0.020  0.042  0.999\n",
      "2  Interaction  5.167    2  116  2.584  2.728  0.070  0.029    NaN\n",
      "\u001b[0;31mFile:\u001b[0m      ~/miniconda3/lib/python3.9/site-packages/pingouin/parametric.py\n",
      "\u001b[0;31mType:\u001b[0m      function\n"
     ]
    }
   ],
   "source": [
    "import pingouin as pg\n",
    "\n",
    "?pg.mixed_anova"
   ]
  },
  {
   "cell_type": "code",
   "execution_count": 6,
   "metadata": {},
   "outputs": [
    {
     "data": {
      "text/html": [
       "<div>\n",
       "<style scoped>\n",
       "    .dataframe tbody tr th:only-of-type {\n",
       "        vertical-align: middle;\n",
       "    }\n",
       "\n",
       "    .dataframe tbody tr th {\n",
       "        vertical-align: top;\n",
       "    }\n",
       "\n",
       "    .dataframe thead th {\n",
       "        text-align: right;\n",
       "    }\n",
       "</style>\n",
       "<table border=\"1\" class=\"dataframe\">\n",
       "  <thead>\n",
       "    <tr style=\"text-align: right;\">\n",
       "      <th></th>\n",
       "      <th>Source</th>\n",
       "      <th>SS</th>\n",
       "      <th>DF1</th>\n",
       "      <th>DF2</th>\n",
       "      <th>MS</th>\n",
       "      <th>F</th>\n",
       "      <th>p-unc</th>\n",
       "      <th>p-GG-corr</th>\n",
       "      <th>np2</th>\n",
       "      <th>eps</th>\n",
       "      <th>sphericity</th>\n",
       "      <th>W-spher</th>\n",
       "      <th>p-spher</th>\n",
       "    </tr>\n",
       "  </thead>\n",
       "  <tbody>\n",
       "    <tr>\n",
       "      <th>0</th>\n",
       "      <td>Species</td>\n",
       "      <td>23064.197</td>\n",
       "      <td>2</td>\n",
       "      <td>339</td>\n",
       "      <td>11532.098</td>\n",
       "      <td>439.713</td>\n",
       "      <td>0.0</td>\n",
       "      <td>NaN</td>\n",
       "      <td>0.722</td>\n",
       "      <td>NaN</td>\n",
       "      <td>NaN</td>\n",
       "      <td>NaN</td>\n",
       "      <td>NaN</td>\n",
       "    </tr>\n",
       "    <tr>\n",
       "      <th>1</th>\n",
       "      <td>time</td>\n",
       "      <td>457.287</td>\n",
       "      <td>2</td>\n",
       "      <td>678</td>\n",
       "      <td>228.643</td>\n",
       "      <td>4101.565</td>\n",
       "      <td>0.0</td>\n",
       "      <td>0.0</td>\n",
       "      <td>0.924</td>\n",
       "      <td>0.582</td>\n",
       "      <td>False</td>\n",
       "      <td>0.281</td>\n",
       "      <td>0.0</td>\n",
       "    </tr>\n",
       "    <tr>\n",
       "      <th>2</th>\n",
       "      <td>Interaction</td>\n",
       "      <td>139.861</td>\n",
       "      <td>4</td>\n",
       "      <td>678</td>\n",
       "      <td>34.965</td>\n",
       "      <td>627.234</td>\n",
       "      <td>0.0</td>\n",
       "      <td>NaN</td>\n",
       "      <td>0.787</td>\n",
       "      <td>NaN</td>\n",
       "      <td>NaN</td>\n",
       "      <td>NaN</td>\n",
       "      <td>NaN</td>\n",
       "    </tr>\n",
       "  </tbody>\n",
       "</table>\n",
       "</div>"
      ],
      "text/plain": [
       "        Source         SS  DF1  DF2         MS         F  p-unc  p-GG-corr  \\\n",
       "0      Species  23064.197    2  339  11532.098   439.713    0.0        NaN   \n",
       "1         time    457.287    2  678    228.643  4101.565    0.0        0.0   \n",
       "2  Interaction    139.861    4  678     34.965   627.234    0.0        NaN   \n",
       "\n",
       "     np2    eps sphericity  W-spher  p-spher  \n",
       "0  0.722    NaN        NaN      NaN      NaN  \n",
       "1  0.924  0.582      False    0.281      0.0  \n",
       "2  0.787    NaN        NaN      NaN      NaN  "
      ]
     },
     "execution_count": 6,
     "metadata": {},
     "output_type": "execute_result"
    }
   ],
   "source": [
    "results_mx_anova = pg.mixed_anova(\n",
    "    data=penguins_rm,\n",
    "    dv=\"Culmen Length (mm)\",\n",
    "    within=\"time\",\n",
    "    subject=\"id\",\n",
    "    between=\"Species\",\n",
    ")\n",
    "results_mx_anova.round(3)"
   ]
  },
  {
   "cell_type": "markdown",
   "metadata": {},
   "source": [
    "Auffällig ist, dass wir hier keinen Fehler in einer Einzelnen Reihe ausgegeben bekommen, aber trotzdem Fehler-Freiheitsgrade (`DF2`). Außerdem sollte nach dem letzten Notebook klar sein, dass wir nur für den within-Factor Werte für die Tests bekommen, die Sphärizität messen und dafür korrigieren."
   ]
  },
  {
   "cell_type": "code",
   "execution_count": 26,
   "metadata": {},
   "outputs": [
    {
     "data": {
      "text/plain": [
       "32589.898299594974"
      ]
     },
     "execution_count": 26,
     "metadata": {},
     "output_type": "execute_result"
    }
   ],
   "source": [
    "M_total = penguins_rm[\"Culmen Length (mm)\"].mean()\n",
    "\n",
    "SS_total = np.sum(( penguins_rm[\"Culmen Length (mm)\"] - M_total) ** 2)\n",
    "SS_total"
   ]
  },
  {
   "cell_type": "code",
   "execution_count": 27,
   "metadata": {},
   "outputs": [],
   "source": [
    "def SumOfSquares(x):\n",
    "    Mx = x.mean()\n",
    "    return np.sum(( x - Mx) ** 2)"
   ]
  },
  {
   "cell_type": "code",
   "execution_count": 28,
   "metadata": {},
   "outputs": [
    {
     "data": {
      "text/plain": [
       "9525.701792042028"
      ]
     },
     "execution_count": 28,
     "metadata": {},
     "output_type": "execute_result"
    }
   ],
   "source": [
    "SS_Adelie = SumOfSquares(penguins_rm[penguins_rm[\"Species\"] == \"Adelie\"][\"Culmen Length (mm)\"])\n",
    "SS_Gentoo = SumOfSquares(penguins_rm[penguins_rm[\"Species\"] == \"Gentoo\"][\"Culmen Length (mm)\"])\n",
    "SS_Chinstrap = SumOfSquares(penguins_rm[penguins_rm[\"Species\"] == \"Chinstrap\"][\"Culmen Length (mm)\"])\n",
    "\n",
    "SS_within = SS_Adelie + SS_Gentoo + SS_Chinstrap\n",
    "SS_within"
   ]
  },
  {
   "cell_type": "code",
   "execution_count": 29,
   "metadata": {},
   "outputs": [
    {
     "name": "stdout",
     "output_type": "stream",
     "text": [
      "SS_between errechnet: 23064.197\n",
      "SS_between aus der Tabelle: 23064.197\n"
     ]
    }
   ],
   "source": [
    "SS_between = SS_total - SS_within\n",
    "\n",
    "print(f\"SS_between errechnet: {SS_between:.3f}\\n\"\n",
    "      f\"SS_between aus der Tabelle: {results_mx_anova['SS'][0]:.3f}\")"
   ]
  },
  {
   "cell_type": "code",
   "execution_count": 30,
   "metadata": {},
   "outputs": [
    {
     "data": {
      "text/plain": [
       "23064.19650755298"
      ]
     },
     "execution_count": 30,
     "metadata": {},
     "output_type": "execute_result"
    }
   ],
   "source": [
    "M_group = penguins_rm.groupby(\"Species\").mean()[\"Culmen Length (mm)\"]\n",
    "N_group = penguins_rm.groupby(\"Species\").count()[\"Culmen Length (mm)\"]\n",
    "\n",
    "SS_between2 = np.sum( N_group * (M_group - M_total) ** 2)\n",
    "SS_between2"
   ]
  },
  {
   "cell_type": "code",
   "execution_count": 32,
   "metadata": {},
   "outputs": [
    {
     "data": {
      "text/plain": [
       "31954.954881174475"
      ]
     },
     "execution_count": 32,
     "metadata": {},
     "output_type": "execute_result"
    }
   ],
   "source": [
    "# Lösung\n",
    "subj_means = penguins_rm.groupby(\"id\").mean()[\"Culmen Length (mm)\"]\n",
    "k = penguins_rm[\"time\"].nunique()\n",
    "SS_subj = np.sum( k * (subj_means - M_total) ** 2)\n",
    "SS_subj"
   ]
  },
  {
   "cell_type": "code",
   "execution_count": 33,
   "metadata": {},
   "outputs": [
    {
     "data": {
      "text/plain": [
       "634.9434184204983"
      ]
     },
     "execution_count": 33,
     "metadata": {},
     "output_type": "execute_result"
    }
   ],
   "source": [
    "SS_error = SS_total - SS_subj\n",
    "SS_error"
   ]
  }
 ],
 "metadata": {
  "kernelspec": {
   "display_name": "Python 3.9.12 ('base')",
   "language": "python",
   "name": "python3"
  },
  "language_info": {
   "codemirror_mode": {
    "name": "ipython",
    "version": 3
   },
   "file_extension": ".py",
   "mimetype": "text/x-python",
   "name": "python",
   "nbconvert_exporter": "python",
   "pygments_lexer": "ipython3",
   "version": "3.9.12"
  },
  "orig_nbformat": 4,
  "vscode": {
   "interpreter": {
    "hash": "3580934a75e2a5681f2ed91313a9e0844329e962c492dd98a557b0be763cdfef"
   }
  }
 },
 "nbformat": 4,
 "nbformat_minor": 2
}
