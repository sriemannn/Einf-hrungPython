{
 "cells": [
  {
   "cell_type": "markdown",
   "metadata": {},
   "source": [
    "# Grundlegendes zu Python\n",
    "\n",
    "Ein superkurzer Crashkurs.\n",
    "\n",
    "Hier versuche ich einmal grundlegende Operationen für diese kleine Einführung zu vermitteln. Starten werden wir damit, dass Python so funktioniert, dass es einfach eine Liste von Befehlen von oben nach unten abarbeitet. Im einfachsten Fall ist Python ein Taschenrechner."
   ]
  },
  {
   "cell_type": "code",
   "execution_count": 1,
   "metadata": {},
   "outputs": [
    {
     "data": {
      "text/plain": [
       "12"
      ]
     },
     "execution_count": 1,
     "metadata": {},
     "output_type": "execute_result"
    }
   ],
   "source": [
    "5 + 7"
   ]
  },
  {
   "cell_type": "markdown",
   "metadata": {},
   "source": [
    "Verschiedene mathematische Operationen sind hierbei möglich. \n",
    "\n",
    "* Addition: +\n",
    "* Subtraktion: -\n",
    "* Multiplikation: \n",
    "* Division: /\n",
    "* Division mit Rest: //\n",
    "* Rest der Division mit Rest: %\n",
    "* Potenzen: **\n",
    "\n",
    "Außerdem können die Werte von Operationen Variablen zugeordnet werden. So kann ich zum Beispiel Ergebnisse für später speichern. Wichtig ist, dass die Variablen möglichst deskriptive Namen haben, damit man den Überblick behält. Außerdem müssen die Variablennamen mit einem Buchstaben starten (also keinem Sonderzeichen oder einer Zahl)."
   ]
  },
  {
   "cell_type": "code",
   "execution_count": 5,
   "metadata": {},
   "outputs": [
    {
     "data": {
      "text/plain": [
       "12"
      ]
     },
     "execution_count": 5,
     "metadata": {},
     "output_type": "execute_result"
    }
   ],
   "source": [
    "a = 5\n",
    "b = 7\n",
    "a + b"
   ]
  },
  {
   "cell_type": "markdown",
   "metadata": {},
   "source": [
    "Variablen können aber z.B. auch eine Kommazahl sein sogenannte `floats` (ganze Zahlen sind integers oder `int`) oder Zeichenketten (gekennzeichnet durch \" \" oder ' '). Manche dieser Variablentypen sind miteinander Kompatibel, andere nicht."
   ]
  },
  {
   "cell_type": "code",
   "execution_count": 6,
   "metadata": {},
   "outputs": [
    {
     "ename": "TypeError",
     "evalue": "unsupported operand type(s) for +: 'float' and 'str'",
     "output_type": "error",
     "traceback": [
      "\u001b[0;31m---------------------------------------------------------------------------\u001b[0m",
      "\u001b[0;31mTypeError\u001b[0m                                 Traceback (most recent call last)",
      "\u001b[1;32m/home/steffenr/Dokumente/GitHub/Einf-hrungPython/00_Grundlegendes_zu_Python.ipynb Cell 6'\u001b[0m in \u001b[0;36m<cell line: 3>\u001b[0;34m()\u001b[0m\n\u001b[1;32m      <a href='vscode-notebook-cell:/home/steffenr/Dokumente/GitHub/Einf-hrungPython/00_Grundlegendes_zu_Python.ipynb#ch0000011?line=0'>1</a>\u001b[0m a \u001b[39m=\u001b[39m \u001b[39m5.5\u001b[39m \n\u001b[1;32m      <a href='vscode-notebook-cell:/home/steffenr/Dokumente/GitHub/Einf-hrungPython/00_Grundlegendes_zu_Python.ipynb#ch0000011?line=1'>2</a>\u001b[0m b \u001b[39m=\u001b[39m \u001b[39m'\u001b[39m\u001b[39m8\u001b[39m\u001b[39m'\u001b[39m\n\u001b[0;32m----> <a href='vscode-notebook-cell:/home/steffenr/Dokumente/GitHub/Einf-hrungPython/00_Grundlegendes_zu_Python.ipynb#ch0000011?line=2'>3</a>\u001b[0m a \u001b[39m+\u001b[39;49m b\n",
      "\u001b[0;31mTypeError\u001b[0m: unsupported operand type(s) for +: 'float' and 'str'"
     ]
    }
   ],
   "source": [
    "a = 5.5\n",
    "b = \"8\"\n",
    "(\n",
    "    a + b\n",
    ")  # Sollte einen Fehler produzieren, da 8 eine Zeichenkette darstellt, obwohl sie eine Ziffer abbildet"
   ]
  },
  {
   "cell_type": "code",
   "execution_count": 7,
   "metadata": {},
   "outputs": [
    {
     "ename": "TypeError",
     "evalue": "unsupported operand type(s) for +: 'int' and 'str'",
     "output_type": "error",
     "traceback": [
      "\u001b[0;31m---------------------------------------------------------------------------\u001b[0m",
      "\u001b[0;31mTypeError\u001b[0m                                 Traceback (most recent call last)",
      "\u001b[1;32m/home/steffenr/Dokumente/GitHub/Einf-hrungPython/00_Grundlegendes_zu_Python.ipynb Cell 7'\u001b[0m in \u001b[0;36m<cell line: 3>\u001b[0;34m()\u001b[0m\n\u001b[1;32m      <a href='vscode-notebook-cell:/home/steffenr/Dokumente/GitHub/Einf-hrungPython/00_Grundlegendes_zu_Python.ipynb#ch0000012?line=0'>1</a>\u001b[0m a \u001b[39m=\u001b[39m \u001b[39m5\u001b[39m\n\u001b[1;32m      <a href='vscode-notebook-cell:/home/steffenr/Dokumente/GitHub/Einf-hrungPython/00_Grundlegendes_zu_Python.ipynb#ch0000012?line=1'>2</a>\u001b[0m b \u001b[39m=\u001b[39m \u001b[39m'\u001b[39m\u001b[39m8\u001b[39m\u001b[39m'\u001b[39m\n\u001b[0;32m----> <a href='vscode-notebook-cell:/home/steffenr/Dokumente/GitHub/Einf-hrungPython/00_Grundlegendes_zu_Python.ipynb#ch0000012?line=2'>3</a>\u001b[0m a \u001b[39m+\u001b[39;49m b\n",
      "\u001b[0;31mTypeError\u001b[0m: unsupported operand type(s) for +: 'int' and 'str'"
     ]
    }
   ],
   "source": [
    "a = 5\n",
    "b = \"Hund\"\n",
    "a + b  # Auch hier sollte ein Fehler produziert werden."
   ]
  },
  {
   "cell_type": "code",
   "execution_count": 14,
   "metadata": {},
   "outputs": [
    {
     "data": {
      "text/plain": [
       "13.5"
      ]
     },
     "execution_count": 14,
     "metadata": {},
     "output_type": "execute_result"
    }
   ],
   "source": [
    "a = 5.5\n",
    "b = 8\n",
    "a + b"
   ]
  },
  {
   "cell_type": "markdown",
   "metadata": {},
   "source": [
    "Wir können aber auch andere Befehle nutzen. Innerhalb von Python gibt es eine Vielzahl davon: Einige um zu rechnen, andere um Texte zu analysieren. Der wohl einfachste ist der `print()` Befehl, der einfach eine Variable ausgibt."
   ]
  },
  {
   "cell_type": "code",
   "execution_count": 15,
   "metadata": {},
   "outputs": [
    {
     "name": "stdout",
     "output_type": "stream",
     "text": [
      "8\n"
     ]
    }
   ],
   "source": [
    "print(b)"
   ]
  },
  {
   "cell_type": "markdown",
   "metadata": {},
   "source": [
    "Man kann mit einem sogenannten f-string auch noch etwas dazu schreiben. Das könnte so aussehen."
   ]
  },
  {
   "cell_type": "code",
   "execution_count": 16,
   "metadata": {},
   "outputs": [
    {
     "name": "stdout",
     "output_type": "stream",
     "text": [
      "Die Variable b enthält den Wert 8.\n"
     ]
    }
   ],
   "source": [
    "print(f\"Die Variable b enthält den Wert {b}.\")"
   ]
  },
  {
   "cell_type": "markdown",
   "metadata": {},
   "source": [
    "In einem f-string wird vor \" \" oder ' ' ein f geschrieben und alles in geschwiffenen Klammern {} kann noch Python Code enthalten, der ausgeführt wird."
   ]
  },
  {
   "cell_type": "markdown",
   "metadata": {},
   "source": [
    "Es gibt aber auch Möglichkeiten mehrere Daten in einer Variable zu speichern, z.B. Listen."
   ]
  },
  {
   "cell_type": "code",
   "execution_count": 17,
   "metadata": {},
   "outputs": [],
   "source": [
    "a = [1, 2, 3, 4, 5, 6]"
   ]
  },
  {
   "cell_type": "markdown",
   "metadata": {},
   "source": [
    "oder Tuple:"
   ]
  },
  {
   "cell_type": "code",
   "execution_count": 18,
   "metadata": {},
   "outputs": [],
   "source": [
    "b = (1, 2, 3, 4, 5)"
   ]
  },
  {
   "cell_type": "markdown",
   "metadata": {},
   "source": [
    "Beide könnten auch unterschiedliche Arten von Daten enthalten:"
   ]
  },
  {
   "cell_type": "code",
   "execution_count": 20,
   "metadata": {},
   "outputs": [],
   "source": [
    "c = [\"a\", 4, 8.6, \"c\"]\n",
    "d = (\"a\", 4, 8.6, \"c\")"
   ]
  },
  {
   "cell_type": "markdown",
   "metadata": {},
   "source": [
    "Auf die einzelnen Elemente kann zugreifen, mit einem sogenannten Index. Der Index ergibt sich quasi indem man von vorne nach hinten bei 0 beginnend durchzählt."
   ]
  },
  {
   "cell_type": "code",
   "execution_count": 21,
   "metadata": {},
   "outputs": [
    {
     "data": {
      "text/plain": [
       "1"
      ]
     },
     "execution_count": 21,
     "metadata": {},
     "output_type": "execute_result"
    }
   ],
   "source": [
    "a[0]"
   ]
  },
  {
   "cell_type": "code",
   "execution_count": 23,
   "metadata": {},
   "outputs": [
    {
     "data": {
      "text/plain": [
       "4"
      ]
     },
     "execution_count": 23,
     "metadata": {},
     "output_type": "execute_result"
    }
   ],
   "source": [
    "b[3]"
   ]
  },
  {
   "cell_type": "markdown",
   "metadata": {},
   "source": [
    "Man kann auch mehrere auswählen 0:3 (das erste bis zum dritten Element, das vierte also die 3 wird ausgeschlossen), das wir manchmal als :3 abgekürzt oder jedes zweite 2:7:2 (vom dritten Element bis zum siebten jedes zweite) oder man kann von hinten zu zählen beginnen -1"
   ]
  },
  {
   "cell_type": "code",
   "execution_count": 27,
   "metadata": {},
   "outputs": [
    {
     "name": "stdout",
     "output_type": "stream",
     "text": [
      "[1, 2, 3]\n",
      "[1, 2, 3]\n",
      "[3, 5]\n",
      "6\n"
     ]
    }
   ],
   "source": [
    "print(a[0:3])\n",
    "print(a[:3])\n",
    "print(a[2:7:2])\n",
    "print(a[-1])"
   ]
  },
  {
   "cell_type": "markdown",
   "metadata": {},
   "source": [
    "Mit Modulen wie numpy oder pandas lassen sich Rechnungen noch effizienter durchführen. Dazu importiere ich unten Numpy unter dem Namen np, damit ich es nutzen kann und erstelle anschließend eine Matrix mit Werten von 1-12."
   ]
  },
  {
   "cell_type": "code",
   "execution_count": 31,
   "metadata": {},
   "outputs": [
    {
     "name": "stdout",
     "output_type": "stream",
     "text": [
      "[ 1  2  3  4  5  6  7  8  9 10 11 12]\n",
      " \n",
      "[[ 1  2  3]\n",
      " [ 4  5  6]\n",
      " [ 7  8  9]\n",
      " [10 11 12]]\n"
     ]
    }
   ],
   "source": [
    "import numpy as np\n",
    "\n",
    "a = np.arange(\n",
    "    1, 13\n",
    ")  # kreiert einen numpy.array (ein weiterer Datentyp ähnlich einer Liste), der mit den Zahlen im range von 1 - 13 (exkludiert) gefüllt wird.\n",
    "print(a), print(\" \")  # der zweite Printbefehl erzeugt eine Leerzeile\n",
    "a = a.reshape(\n",
    "    4, 3\n",
    ")  # ordnet den numpy.array neu an, sodass er 4 Zeilen und 3 Spalten hat. Die Regel ist immer Zeilen vor Spalten\n",
    "print(a)"
   ]
  },
  {
   "cell_type": "markdown",
   "metadata": {},
   "source": [
    "Auch mit numpy.arrays lässt sich rechnen:"
   ]
  },
  {
   "cell_type": "code",
   "execution_count": 33,
   "metadata": {},
   "outputs": [
    {
     "data": {
      "text/plain": [
       "array([[ 2,  4,  6],\n",
       "       [ 8, 10, 12],\n",
       "       [14, 16, 18],\n",
       "       [20, 22, 24]])"
      ]
     },
     "execution_count": 33,
     "metadata": {},
     "output_type": "execute_result"
    }
   ],
   "source": [
    "a * 2"
   ]
  },
  {
   "cell_type": "code",
   "execution_count": 34,
   "metadata": {},
   "outputs": [
    {
     "data": {
      "text/plain": [
       "array([[ 2,  3,  4],\n",
       "       [ 5,  6,  7],\n",
       "       [ 8,  9, 10],\n",
       "       [11, 12, 13]])"
      ]
     },
     "execution_count": 34,
     "metadata": {},
     "output_type": "execute_result"
    }
   ],
   "source": [
    "a + 1"
   ]
  },
  {
   "cell_type": "code",
   "execution_count": 36,
   "metadata": {},
   "outputs": [
    {
     "data": {
      "text/plain": [
       "array([[1, 2, 3],\n",
       "       [4, 5, 6],\n",
       "       [0, 1, 2],\n",
       "       [3, 4, 5]])"
      ]
     },
     "execution_count": 36,
     "metadata": {},
     "output_type": "execute_result"
    }
   ],
   "source": [
    "a % 7"
   ]
  },
  {
   "cell_type": "code",
   "execution_count": 40,
   "metadata": {},
   "outputs": [
    {
     "name": "stdout",
     "output_type": "stream",
     "text": [
      "[[12 13 14]\n",
      " [15 16 17]\n",
      " [18 19 20]\n",
      " [21 22 23]]\n",
      " \n"
     ]
    },
    {
     "data": {
      "text/plain": [
       "array([[13, 15, 17],\n",
       "       [19, 21, 23],\n",
       "       [25, 27, 29],\n",
       "       [31, 33, 35]])"
      ]
     },
     "execution_count": 40,
     "metadata": {},
     "output_type": "execute_result"
    }
   ],
   "source": [
    "b = np.arange(12, 24)\n",
    "b = b.reshape(4, 3)\n",
    "print(b), print(\" \")\n",
    "a + b"
   ]
  },
  {
   "cell_type": "markdown",
   "metadata": {},
   "source": [
    "Numpy erlaubt auch mit den arrays spezielle Operationen durchzuführen z.B. den Mittelwert zu bilden."
   ]
  },
  {
   "cell_type": "code",
   "execution_count": 41,
   "metadata": {},
   "outputs": [
    {
     "data": {
      "text/plain": [
       "6.5"
      ]
     },
     "execution_count": 41,
     "metadata": {},
     "output_type": "execute_result"
    }
   ],
   "source": [
    "# Gesamtmittelwert\n",
    "a.mean()"
   ]
  },
  {
   "cell_type": "code",
   "execution_count": 42,
   "metadata": {},
   "outputs": [
    {
     "data": {
      "text/plain": [
       "array([5.5, 6.5, 7.5])"
      ]
     },
     "execution_count": 42,
     "metadata": {},
     "output_type": "execute_result"
    }
   ],
   "source": [
    "# Mittelwert der Reihen\n",
    "a.mean(\n",
    "    axis=0\n",
    ")  # Reihen vor Spalten und wir beginnen das Zählen bei 0, daher sind die Reihen die 0. Dimension"
   ]
  },
  {
   "cell_type": "code",
   "execution_count": 43,
   "metadata": {},
   "outputs": [
    {
     "data": {
      "text/plain": [
       "array([ 2.,  5.,  8., 11.])"
      ]
     },
     "execution_count": 43,
     "metadata": {},
     "output_type": "execute_result"
    }
   ],
   "source": [
    "# Mittelwert der Spalten\n",
    "a.mean(axis=1)"
   ]
  },
  {
   "cell_type": "markdown",
   "metadata": {},
   "source": [
    "Q: Wiederhole die Rechnungen zum Mittelwert mit dem Array b"
   ]
  },
  {
   "cell_type": "code",
   "execution_count": null,
   "metadata": {},
   "outputs": [],
   "source": []
  },
  {
   "cell_type": "markdown",
   "metadata": {},
   "source": [
    "Pandas benutzt man vor allem, um mit Tabellen zu arbeiten. Hierfür laden wir einmal eine mitgebrachte Tabelle."
   ]
  },
  {
   "cell_type": "code",
   "execution_count": 44,
   "metadata": {},
   "outputs": [],
   "source": [
    "import pandas as pd\n",
    "\n",
    "penguins = pd.read_csv(\"./penguins_classification.csv\")"
   ]
  },
  {
   "cell_type": "markdown",
   "metadata": {},
   "source": [
    "Um einen Überblick über die Tabelle zu bekommen, kann man `.head()` benutzen"
   ]
  },
  {
   "cell_type": "code",
   "execution_count": 45,
   "metadata": {},
   "outputs": [
    {
     "data": {
      "text/html": [
       "<div>\n",
       "<style scoped>\n",
       "    .dataframe tbody tr th:only-of-type {\n",
       "        vertical-align: middle;\n",
       "    }\n",
       "\n",
       "    .dataframe tbody tr th {\n",
       "        vertical-align: top;\n",
       "    }\n",
       "\n",
       "    .dataframe thead th {\n",
       "        text-align: right;\n",
       "    }\n",
       "</style>\n",
       "<table border=\"1\" class=\"dataframe\">\n",
       "  <thead>\n",
       "    <tr style=\"text-align: right;\">\n",
       "      <th></th>\n",
       "      <th>Culmen Length (mm)</th>\n",
       "      <th>Culmen Depth (mm)</th>\n",
       "      <th>Species</th>\n",
       "    </tr>\n",
       "  </thead>\n",
       "  <tbody>\n",
       "    <tr>\n",
       "      <th>0</th>\n",
       "      <td>39.1</td>\n",
       "      <td>18.7</td>\n",
       "      <td>Adelie</td>\n",
       "    </tr>\n",
       "    <tr>\n",
       "      <th>1</th>\n",
       "      <td>39.5</td>\n",
       "      <td>17.4</td>\n",
       "      <td>Adelie</td>\n",
       "    </tr>\n",
       "    <tr>\n",
       "      <th>2</th>\n",
       "      <td>40.3</td>\n",
       "      <td>18.0</td>\n",
       "      <td>Adelie</td>\n",
       "    </tr>\n",
       "    <tr>\n",
       "      <th>3</th>\n",
       "      <td>36.7</td>\n",
       "      <td>19.3</td>\n",
       "      <td>Adelie</td>\n",
       "    </tr>\n",
       "    <tr>\n",
       "      <th>4</th>\n",
       "      <td>39.3</td>\n",
       "      <td>20.6</td>\n",
       "      <td>Adelie</td>\n",
       "    </tr>\n",
       "  </tbody>\n",
       "</table>\n",
       "</div>"
      ],
      "text/plain": [
       "   Culmen Length (mm)  Culmen Depth (mm) Species\n",
       "0                39.1               18.7  Adelie\n",
       "1                39.5               17.4  Adelie\n",
       "2                40.3               18.0  Adelie\n",
       "3                36.7               19.3  Adelie\n",
       "4                39.3               20.6  Adelie"
      ]
     },
     "execution_count": 45,
     "metadata": {},
     "output_type": "execute_result"
    }
   ],
   "source": [
    "penguins.head()"
   ]
  },
  {
   "cell_type": "markdown",
   "metadata": {},
   "source": [
    "Wenn wir einzelne Spalten auswählen wollen, dann können wir diese mit ihrem Spaltennamen auswählen."
   ]
  },
  {
   "cell_type": "code",
   "execution_count": 47,
   "metadata": {},
   "outputs": [
    {
     "data": {
      "text/plain": [
       "0      39.1\n",
       "1      39.5\n",
       "2      40.3\n",
       "3      36.7\n",
       "4      39.3\n",
       "       ... \n",
       "337    55.8\n",
       "338    43.5\n",
       "339    49.6\n",
       "340    50.8\n",
       "341    50.2\n",
       "Name: Culmen Length (mm), Length: 342, dtype: float64"
      ]
     },
     "execution_count": 47,
     "metadata": {},
     "output_type": "execute_result"
    }
   ],
   "source": [
    "penguins[\"Culmen Length (mm)\"]"
   ]
  },
  {
   "cell_type": "markdown",
   "metadata": {},
   "source": [
    "Weiteres Grundlegendes findet ihr in 01_KorrelationenTTest."
   ]
  },
  {
   "cell_type": "markdown",
   "metadata": {},
   "source": []
  }
 ],
 "metadata": {
  "kernelspec": {
   "display_name": "Python 3.9.12 ('base')",
   "language": "python",
   "name": "python3"
  },
  "language_info": {
   "codemirror_mode": {
    "name": "ipython",
    "version": 3
   },
   "file_extension": ".py",
   "mimetype": "text/x-python",
   "name": "python",
   "nbconvert_exporter": "python",
   "pygments_lexer": "ipython3",
   "version": "3.9.12"
  },
  "orig_nbformat": 4,
  "vscode": {
   "interpreter": {
    "hash": "3580934a75e2a5681f2ed91313a9e0844329e962c492dd98a557b0be763cdfef"
   }
  }
 },
 "nbformat": 4,
 "nbformat_minor": 2
}
